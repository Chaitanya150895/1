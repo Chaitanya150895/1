{
  "cells": [
    {
      "cell_type": "markdown",
      "metadata": {
        "id": "view-in-github",
        "colab_type": "text"
      },
      "source": [
        "<a href=\"https://colab.research.google.com/github/Chaitanya150895/1/blob/master/PySpark.ipynb\" target=\"_parent\"><img src=\"https://colab.research.google.com/assets/colab-badge.svg\" alt=\"Open In Colab\"/></a>"
      ]
    },
    {
      "cell_type": "code",
      "execution_count": null,
      "metadata": {
        "colab": {
          "base_uri": "https://localhost:8080/"
        },
        "id": "-C-56h79JfCB",
        "outputId": "7592fd9e-d0ac-4d86-c41f-f6bf3f41ece7"
      },
      "outputs": [
        {
          "output_type": "stream",
          "name": "stdout",
          "text": [
            "Collecting pyspark\n",
            "  Downloading pyspark-3.2.1.tar.gz (281.4 MB)\n",
            "\u001b[K     |████████████████████████████████| 281.4 MB 27 kB/s \n",
            "\u001b[?25hCollecting py4j==0.10.9.3\n",
            "  Downloading py4j-0.10.9.3-py2.py3-none-any.whl (198 kB)\n",
            "\u001b[K     |████████████████████████████████| 198 kB 48.2 MB/s \n",
            "\u001b[?25hBuilding wheels for collected packages: pyspark\n",
            "  Building wheel for pyspark (setup.py) ... \u001b[?25l\u001b[?25hdone\n",
            "  Created wheel for pyspark: filename=pyspark-3.2.1-py2.py3-none-any.whl size=281853642 sha256=da17bfb26b818ae9406b991bc4331d08cb69be6758e11fa9aa4d0c42f5629211\n",
            "  Stored in directory: /root/.cache/pip/wheels/9f/f5/07/7cd8017084dce4e93e84e92efd1e1d5334db05f2e83bcef74f\n",
            "Successfully built pyspark\n",
            "Installing collected packages: py4j, pyspark\n",
            "Successfully installed py4j-0.10.9.3 pyspark-3.2.1\n"
          ]
        }
      ],
      "source": [
        "!pip install pyspark"
      ]
    },
    {
      "cell_type": "code",
      "execution_count": null,
      "metadata": {
        "id": "_AjoZTF9KDKo"
      },
      "outputs": [],
      "source": [
        "import pyspark\n",
        "import pandas as pd"
      ]
    },
    {
      "cell_type": "markdown",
      "metadata": {
        "id": "DIXmNKk4Oln8"
      },
      "source": [
        "# New Section"
      ]
    },
    {
      "cell_type": "code",
      "execution_count": null,
      "metadata": {
        "id": "nadjOtvBLSG-"
      },
      "outputs": [],
      "source": [
        "from pyspark.sql import SparkSession"
      ]
    },
    {
      "cell_type": "code",
      "execution_count": null,
      "metadata": {
        "id": "8c3Jdw1mOGHc"
      },
      "outputs": [],
      "source": [
        "spark=SparkSession.builder.appName('Dataframe').getOrCreate()"
      ]
    },
    {
      "cell_type": "code",
      "execution_count": null,
      "metadata": {
        "colab": {
          "base_uri": "https://localhost:8080/",
          "height": 219
        },
        "id": "dzdp1KmmkWEO",
        "outputId": "693aeade-1244-4341-fac8-9717af4f6f66"
      },
      "outputs": [
        {
          "data": {
            "text/html": [
              "\n",
              "            <div>\n",
              "                <p><b>SparkSession - in-memory</b></p>\n",
              "                \n",
              "        <div>\n",
              "            <p><b>SparkContext</b></p>\n",
              "\n",
              "            <p><a href=\"http://8056f6e98394:4040\">Spark UI</a></p>\n",
              "\n",
              "            <dl>\n",
              "              <dt>Version</dt>\n",
              "                <dd><code>v3.2.1</code></dd>\n",
              "              <dt>Master</dt>\n",
              "                <dd><code>local[*]</code></dd>\n",
              "              <dt>AppName</dt>\n",
              "                <dd><code>Dataframe</code></dd>\n",
              "            </dl>\n",
              "        </div>\n",
              "        \n",
              "            </div>\n",
              "        "
            ],
            "text/plain": [
              "<pyspark.sql.session.SparkSession at 0x7f13fc49fe10>"
            ]
          },
          "execution_count": 28,
          "metadata": {},
          "output_type": "execute_result"
        }
      ],
      "source": [
        "spark"
      ]
    },
    {
      "cell_type": "code",
      "execution_count": null,
      "metadata": {
        "colab": {
          "base_uri": "https://localhost:8080/"
        },
        "id": "yD9uyNtGt1XC",
        "outputId": "954aa3ba-d616-4fc6-dfc0-0c8994ec18b4"
      },
      "outputs": [
        {
          "name": "stdout",
          "output_type": "stream",
          "text": [
            "Drive already mounted at /content/drive; to attempt to forcibly remount, call drive.mount(\"/content/drive\", force_remount=True).\n"
          ]
        }
      ],
      "source": [
        "from google.colab import drive\n",
        "drive.mount('/content/drive')"
      ]
    },
    {
      "cell_type": "code",
      "execution_count": null,
      "metadata": {
        "id": "Q5w8odYTkkL4"
      },
      "outputs": [],
      "source": [
        "## read the dataset\n",
        "df_pyspark=spark.read.option('header','true').csv('/content/drive/MyDrive/Colab Notebooks/Superstore.csv',inferSchema=True)"
      ]
    },
    {
      "cell_type": "code",
      "execution_count": null,
      "metadata": {
        "colab": {
          "base_uri": "https://localhost:8080/"
        },
        "id": "nPUizngRmDr4",
        "outputId": "c93c6775-6bba-474b-b1aa-1495ef1d5eba"
      },
      "outputs": [
        {
          "output_type": "stream",
          "name": "stdout",
          "text": [
            "root\n",
            " |-- Row ID: integer (nullable = true)\n",
            " |-- Order ID: string (nullable = true)\n",
            " |-- Order Date: timestamp (nullable = true)\n",
            " |-- Ship Date: timestamp (nullable = true)\n",
            " |-- Ship Mode: string (nullable = true)\n",
            " |-- Customer ID: string (nullable = true)\n",
            " |-- Customer Name: string (nullable = true)\n",
            " |-- Segment: string (nullable = true)\n",
            " |-- Country: string (nullable = true)\n",
            " |-- City: string (nullable = true)\n",
            " |-- State: string (nullable = true)\n",
            " |-- Postal Code: integer (nullable = true)\n",
            " |-- Region: string (nullable = true)\n",
            " |-- Product ID: string (nullable = true)\n",
            " |-- Category: string (nullable = true)\n",
            " |-- Sub-Category: string (nullable = true)\n",
            " |-- Product Name: string (nullable = true)\n",
            " |-- Sales: string (nullable = true)\n",
            " |-- Quantity: string (nullable = true)\n",
            " |-- Discount: string (nullable = true)\n",
            " |-- Profit: double (nullable = true)\n",
            "\n"
          ]
        }
      ],
      "source": [
        "### Check the schema\n",
        "df_pyspark.printSchema()"
      ]
    },
    {
      "cell_type": "code",
      "execution_count": null,
      "metadata": {
        "colab": {
          "base_uri": "https://localhost:8080/"
        },
        "id": "PItnh2wzn97y",
        "outputId": "c84ff947-ee91-4d3d-98ca-db05c2f4a46b"
      },
      "outputs": [
        {
          "output_type": "stream",
          "name": "stdout",
          "text": [
            "+------+--------------+-------------------+-------------------+--------------+-----------+------------------+-----------+-------------+---------------+--------------+-----------+-------+---------------+---------------+------------+--------------------+--------+--------+--------+----------------+\n",
            "|Row ID|      Order ID|         Order Date|          Ship Date|     Ship Mode|Customer ID|     Customer Name|    Segment|      Country|           City|         State|Postal Code| Region|     Product ID|       Category|Sub-Category|        Product Name|   Sales|Quantity|Discount|          Profit|\n",
            "+------+--------------+-------------------+-------------------+--------------+-----------+------------------+-----------+-------------+---------------+--------------+-----------+-------+---------------+---------------+------------+--------------------+--------+--------+--------+----------------+\n",
            "|     1|CA-2016-152156|2016-11-08 00:00:00|2016-11-11 00:00:00|  Second Class|   CG-12520|       Claire Gute|   Consumer|United States|      Henderson|      Kentucky|      42420|  South|FUR-BO-10001798|      Furniture|   Bookcases|Bush Somerset Col...|  261.96|       2|       0|         41.9136|\n",
            "|     2|CA-2016-152156|2016-11-08 00:00:00|2016-11-11 00:00:00|  Second Class|   CG-12520|       Claire Gute|   Consumer|United States|      Henderson|      Kentucky|      42420|  South|FUR-CH-10000454|      Furniture|      Chairs|Hon Deluxe Fabric...|  731.94|       3|       0|         219.582|\n",
            "|     3|CA-2016-138688|2016-06-12 00:00:00|2016-06-16 00:00:00|  Second Class|   DV-13045|   Darrin Van Huff|  Corporate|United States|    Los Angeles|    California|      90036|   West|OFF-LA-10000240|Office Supplies|      Labels|Self-Adhesive Add...|   14.62|       2|       0|          6.8714|\n",
            "|     4|US-2015-108966|2015-10-11 00:00:00|2015-10-18 00:00:00|Standard Class|   SO-20335|    Sean O'Donnell|   Consumer|United States|Fort Lauderdale|       Florida|      33311|  South|FUR-TA-10000577|      Furniture|      Tables|Bretford CR4500 S...|957.5775|       5|    0.45|        -383.031|\n",
            "|     5|US-2015-108966|2015-10-11 00:00:00|2015-10-18 00:00:00|Standard Class|   SO-20335|    Sean O'Donnell|   Consumer|United States|Fort Lauderdale|       Florida|      33311|  South|OFF-ST-10000760|Office Supplies|     Storage|Eldon Fold 'N Rol...|  22.368|       2|     0.2|          2.5164|\n",
            "|     6|CA-2014-115812|2014-06-09 00:00:00|2014-06-14 00:00:00|Standard Class|   BH-11710|   Brosina Hoffman|   Consumer|United States|    Los Angeles|    California|      90032|   West|FUR-FU-10001487|      Furniture| Furnishings|Eldon Expressions...|   48.86|       7|       0|         14.1694|\n",
            "|     7|CA-2014-115812|2014-06-09 00:00:00|2014-06-14 00:00:00|Standard Class|   BH-11710|   Brosina Hoffman|   Consumer|United States|    Los Angeles|    California|      90032|   West|OFF-AR-10002833|Office Supplies|         Art|          Newell 322|    7.28|       4|       0|          1.9656|\n",
            "|     8|CA-2014-115812|2014-06-09 00:00:00|2014-06-14 00:00:00|Standard Class|   BH-11710|   Brosina Hoffman|   Consumer|United States|    Los Angeles|    California|      90032|   West|TEC-PH-10002275|     Technology|      Phones|Mitel 5320 IP Pho...| 907.152|       6|     0.2|         90.7152|\n",
            "|     9|CA-2014-115812|2014-06-09 00:00:00|2014-06-14 00:00:00|Standard Class|   BH-11710|   Brosina Hoffman|   Consumer|United States|    Los Angeles|    California|      90032|   West|OFF-BI-10003910|Office Supplies|     Binders|DXL Angle-View Bi...|  18.504|       3|     0.2|          5.7825|\n",
            "|    10|CA-2014-115812|2014-06-09 00:00:00|2014-06-14 00:00:00|Standard Class|   BH-11710|   Brosina Hoffman|   Consumer|United States|    Los Angeles|    California|      90032|   West|OFF-AP-10002892|Office Supplies|  Appliances|Belkin F5C206VTEL...|   114.9|       5|       0|           34.47|\n",
            "|    11|CA-2014-115812|2014-06-09 00:00:00|2014-06-14 00:00:00|Standard Class|   BH-11710|   Brosina Hoffman|   Consumer|United States|    Los Angeles|    California|      90032|   West|FUR-TA-10001539|      Furniture|      Tables|Chromcraft Rectan...|1706.184|       9|     0.2|85.3091999999998|\n",
            "|    12|CA-2014-115812|2014-06-09 00:00:00|2014-06-14 00:00:00|Standard Class|   BH-11710|   Brosina Hoffman|   Consumer|United States|    Los Angeles|    California|      90032|   West|TEC-PH-10002033|     Technology|      Phones|Konftel 250 Confe...| 911.424|       4|     0.2|         68.3568|\n",
            "|    13|CA-2017-114412|2017-04-15 00:00:00|2017-04-20 00:00:00|Standard Class|   AA-10480|      Andrew Allen|   Consumer|United States|        Concord|North Carolina|      28027|  South|OFF-PA-10002365|Office Supplies|       Paper|          Xerox 1967|  15.552|       3|     0.2|          5.4432|\n",
            "|    14|CA-2016-161389|2016-12-05 00:00:00|2016-12-10 00:00:00|Standard Class|   IM-15070|      Irene Maddox|   Consumer|United States|        Seattle|    Washington|      98103|   West|OFF-BI-10003656|Office Supplies|     Binders|Fellowes PB200 Pl...| 407.976|       3|     0.2|        132.5922|\n",
            "|    15|US-2015-118983|2015-11-22 00:00:00|2015-11-26 00:00:00|Standard Class|   HP-14815|     Harold Pawlan|Home Office|United States|     Fort Worth|         Texas|      76106|Central|OFF-AP-10002311|Office Supplies|  Appliances|Holmes Replacemen...|   68.81|       5|     0.8|        -123.858|\n",
            "|    16|US-2015-118983|2015-11-22 00:00:00|2015-11-26 00:00:00|Standard Class|   HP-14815|     Harold Pawlan|Home Office|United States|     Fort Worth|         Texas|      76106|Central|OFF-BI-10000756|Office Supplies|     Binders|Storex DuraTech R...|   2.544|       3|     0.8|          -3.816|\n",
            "|    17|CA-2014-105893|2014-11-11 00:00:00|2014-11-18 00:00:00|Standard Class|   PK-19075|         Pete Kriz|   Consumer|United States|        Madison|     Wisconsin|      53711|Central|OFF-ST-10004186|Office Supplies|     Storage|\"Stur-D-Stor Shel...|  665.88|       6|       0|         13.3176|\n",
            "|    18|CA-2014-167164|2014-05-13 00:00:00|2014-05-15 00:00:00|  Second Class|   AG-10270|   Alejandro Grove|   Consumer|United States|    West Jordan|          Utah|      84084|   West|OFF-ST-10000107|Office Supplies|     Storage|Fellowes Super St...|    55.5|       2|       0|9.98999999999999|\n",
            "|    19|CA-2014-143336|2014-08-27 00:00:00|2014-09-01 00:00:00|  Second Class|   ZD-21925|Zuschuss Donatelli|   Consumer|United States|  San Francisco|    California|      94109|   West|OFF-AR-10003056|Office Supplies|         Art|          Newell 341|    8.56|       2|       0|          2.4824|\n",
            "|    20|CA-2014-143336|2014-08-27 00:00:00|2014-09-01 00:00:00|  Second Class|   ZD-21925|Zuschuss Donatelli|   Consumer|United States|  San Francisco|    California|      94109|   West|TEC-PH-10001949|     Technology|      Phones|Cisco SPA 501G IP...|  213.48|       3|     0.2|          16.011|\n",
            "+------+--------------+-------------------+-------------------+--------------+-----------+------------------+-----------+-------------+---------------+--------------+-----------+-------+---------------+---------------+------------+--------------------+--------+--------+--------+----------------+\n",
            "only showing top 20 rows\n",
            "\n"
          ]
        }
      ],
      "source": [
        "df_pyspark.show()"
      ]
    },
    {
      "cell_type": "code",
      "execution_count": null,
      "metadata": {
        "colab": {
          "base_uri": "https://localhost:8080/"
        },
        "id": "X91xaJttt_4t",
        "outputId": "e6b4b8c9-4114-4232-c0d0-92d11e42454b"
      },
      "outputs": [
        {
          "output_type": "execute_result",
          "data": {
            "text/plain": [
              "pyspark.sql.dataframe.DataFrame"
            ]
          },
          "metadata": {},
          "execution_count": 94
        }
      ],
      "source": [
        "type(df_pyspark)"
      ]
    },
    {
      "cell_type": "code",
      "execution_count": null,
      "metadata": {
        "colab": {
          "base_uri": "https://localhost:8080/"
        },
        "id": "T-0Dnd0svBF1",
        "outputId": "96e16af3-8854-4b1c-94d2-d24dcf1e8f4c"
      },
      "outputs": [
        {
          "output_type": "execute_result",
          "data": {
            "text/plain": [
              "[Row(Row ID=1, Order ID='CA-2016-152156', Order Date=datetime.datetime(2016, 11, 8, 0, 0), Ship Date=datetime.datetime(2016, 11, 11, 0, 0), Ship Mode='Second Class', Customer ID='CG-12520', Customer Name='Claire Gute', Segment='Consumer', Country='United States', City='Henderson', State='Kentucky', Postal Code=42420, Region='South', Product ID='FUR-BO-10001798', Category='Furniture', Sub-Category='Bookcases', Product Name='Bush Somerset Collection Bookcase', Sales='261.96', Quantity='2', Discount='0', Profit=41.9136),\n",
              " Row(Row ID=2, Order ID='CA-2016-152156', Order Date=datetime.datetime(2016, 11, 8, 0, 0), Ship Date=datetime.datetime(2016, 11, 11, 0, 0), Ship Mode='Second Class', Customer ID='CG-12520', Customer Name='Claire Gute', Segment='Consumer', Country='United States', City='Henderson', State='Kentucky', Postal Code=42420, Region='South', Product ID='FUR-CH-10000454', Category='Furniture', Sub-Category='Chairs', Product Name='Hon Deluxe Fabric Upholstered Stacking Chairs, Rounded Back', Sales='731.94', Quantity='3', Discount='0', Profit=219.582),\n",
              " Row(Row ID=3, Order ID='CA-2016-138688', Order Date=datetime.datetime(2016, 6, 12, 0, 0), Ship Date=datetime.datetime(2016, 6, 16, 0, 0), Ship Mode='Second Class', Customer ID='DV-13045', Customer Name='Darrin Van Huff', Segment='Corporate', Country='United States', City='Los Angeles', State='California', Postal Code=90036, Region='West', Product ID='OFF-LA-10000240', Category='Office Supplies', Sub-Category='Labels', Product Name='Self-Adhesive Address Labels for Typewriters by Universal', Sales='14.62', Quantity='2', Discount='0', Profit=6.8714),\n",
              " Row(Row ID=4, Order ID='US-2015-108966', Order Date=datetime.datetime(2015, 10, 11, 0, 0), Ship Date=datetime.datetime(2015, 10, 18, 0, 0), Ship Mode='Standard Class', Customer ID='SO-20335', Customer Name=\"Sean O'Donnell\", Segment='Consumer', Country='United States', City='Fort Lauderdale', State='Florida', Postal Code=33311, Region='South', Product ID='FUR-TA-10000577', Category='Furniture', Sub-Category='Tables', Product Name='Bretford CR4500 Series Slim Rectangular Table', Sales='957.5775', Quantity='5', Discount='0.45', Profit=-383.031),\n",
              " Row(Row ID=5, Order ID='US-2015-108966', Order Date=datetime.datetime(2015, 10, 11, 0, 0), Ship Date=datetime.datetime(2015, 10, 18, 0, 0), Ship Mode='Standard Class', Customer ID='SO-20335', Customer Name=\"Sean O'Donnell\", Segment='Consumer', Country='United States', City='Fort Lauderdale', State='Florida', Postal Code=33311, Region='South', Product ID='OFF-ST-10000760', Category='Office Supplies', Sub-Category='Storage', Product Name=\"Eldon Fold 'N Roll Cart System\", Sales='22.368', Quantity='2', Discount='0.2', Profit=2.5164)]"
            ]
          },
          "metadata": {},
          "execution_count": 95
        }
      ],
      "source": [
        "df_pyspark.head(5)"
      ]
    },
    {
      "cell_type": "code",
      "execution_count": null,
      "metadata": {
        "colab": {
          "base_uri": "https://localhost:8080/"
        },
        "id": "CvLoZJtpvFcA",
        "outputId": "d0c8d342-f113-47c3-ca0e-91f055288248"
      },
      "outputs": [
        {
          "output_type": "stream",
          "name": "stdout",
          "text": [
            "+------+--------------+-------------------+-------------------+--------------+-----------+------------------+-----------+-------------+---------------+--------------+-----------+-------+---------------+---------------+------------+--------------------+--------+--------+--------+----------------+\n",
            "|Row ID|      Order ID|         Order Date|          Ship Date|     Ship Mode|Customer ID|     Customer Name|    Segment|      Country|           City|         State|Postal Code| Region|     Product ID|       Category|Sub-Category|        Product Name|   Sales|Quantity|Discount|          Profit|\n",
            "+------+--------------+-------------------+-------------------+--------------+-----------+------------------+-----------+-------------+---------------+--------------+-----------+-------+---------------+---------------+------------+--------------------+--------+--------+--------+----------------+\n",
            "|     1|CA-2016-152156|2016-11-08 00:00:00|2016-11-11 00:00:00|  Second Class|   CG-12520|       Claire Gute|   Consumer|United States|      Henderson|      Kentucky|      42420|  South|FUR-BO-10001798|      Furniture|   Bookcases|Bush Somerset Col...|  261.96|       2|       0|         41.9136|\n",
            "|     2|CA-2016-152156|2016-11-08 00:00:00|2016-11-11 00:00:00|  Second Class|   CG-12520|       Claire Gute|   Consumer|United States|      Henderson|      Kentucky|      42420|  South|FUR-CH-10000454|      Furniture|      Chairs|Hon Deluxe Fabric...|  731.94|       3|       0|         219.582|\n",
            "|     3|CA-2016-138688|2016-06-12 00:00:00|2016-06-16 00:00:00|  Second Class|   DV-13045|   Darrin Van Huff|  Corporate|United States|    Los Angeles|    California|      90036|   West|OFF-LA-10000240|Office Supplies|      Labels|Self-Adhesive Add...|   14.62|       2|       0|          6.8714|\n",
            "|     4|US-2015-108966|2015-10-11 00:00:00|2015-10-18 00:00:00|Standard Class|   SO-20335|    Sean O'Donnell|   Consumer|United States|Fort Lauderdale|       Florida|      33311|  South|FUR-TA-10000577|      Furniture|      Tables|Bretford CR4500 S...|957.5775|       5|    0.45|        -383.031|\n",
            "|     5|US-2015-108966|2015-10-11 00:00:00|2015-10-18 00:00:00|Standard Class|   SO-20335|    Sean O'Donnell|   Consumer|United States|Fort Lauderdale|       Florida|      33311|  South|OFF-ST-10000760|Office Supplies|     Storage|Eldon Fold 'N Rol...|  22.368|       2|     0.2|          2.5164|\n",
            "|     6|CA-2014-115812|2014-06-09 00:00:00|2014-06-14 00:00:00|Standard Class|   BH-11710|   Brosina Hoffman|   Consumer|United States|    Los Angeles|    California|      90032|   West|FUR-FU-10001487|      Furniture| Furnishings|Eldon Expressions...|   48.86|       7|       0|         14.1694|\n",
            "|     7|CA-2014-115812|2014-06-09 00:00:00|2014-06-14 00:00:00|Standard Class|   BH-11710|   Brosina Hoffman|   Consumer|United States|    Los Angeles|    California|      90032|   West|OFF-AR-10002833|Office Supplies|         Art|          Newell 322|    7.28|       4|       0|          1.9656|\n",
            "|     8|CA-2014-115812|2014-06-09 00:00:00|2014-06-14 00:00:00|Standard Class|   BH-11710|   Brosina Hoffman|   Consumer|United States|    Los Angeles|    California|      90032|   West|TEC-PH-10002275|     Technology|      Phones|Mitel 5320 IP Pho...| 907.152|       6|     0.2|         90.7152|\n",
            "|     9|CA-2014-115812|2014-06-09 00:00:00|2014-06-14 00:00:00|Standard Class|   BH-11710|   Brosina Hoffman|   Consumer|United States|    Los Angeles|    California|      90032|   West|OFF-BI-10003910|Office Supplies|     Binders|DXL Angle-View Bi...|  18.504|       3|     0.2|          5.7825|\n",
            "|    10|CA-2014-115812|2014-06-09 00:00:00|2014-06-14 00:00:00|Standard Class|   BH-11710|   Brosina Hoffman|   Consumer|United States|    Los Angeles|    California|      90032|   West|OFF-AP-10002892|Office Supplies|  Appliances|Belkin F5C206VTEL...|   114.9|       5|       0|           34.47|\n",
            "|    11|CA-2014-115812|2014-06-09 00:00:00|2014-06-14 00:00:00|Standard Class|   BH-11710|   Brosina Hoffman|   Consumer|United States|    Los Angeles|    California|      90032|   West|FUR-TA-10001539|      Furniture|      Tables|Chromcraft Rectan...|1706.184|       9|     0.2|85.3091999999998|\n",
            "|    12|CA-2014-115812|2014-06-09 00:00:00|2014-06-14 00:00:00|Standard Class|   BH-11710|   Brosina Hoffman|   Consumer|United States|    Los Angeles|    California|      90032|   West|TEC-PH-10002033|     Technology|      Phones|Konftel 250 Confe...| 911.424|       4|     0.2|         68.3568|\n",
            "|    13|CA-2017-114412|2017-04-15 00:00:00|2017-04-20 00:00:00|Standard Class|   AA-10480|      Andrew Allen|   Consumer|United States|        Concord|North Carolina|      28027|  South|OFF-PA-10002365|Office Supplies|       Paper|          Xerox 1967|  15.552|       3|     0.2|          5.4432|\n",
            "|    14|CA-2016-161389|2016-12-05 00:00:00|2016-12-10 00:00:00|Standard Class|   IM-15070|      Irene Maddox|   Consumer|United States|        Seattle|    Washington|      98103|   West|OFF-BI-10003656|Office Supplies|     Binders|Fellowes PB200 Pl...| 407.976|       3|     0.2|        132.5922|\n",
            "|    15|US-2015-118983|2015-11-22 00:00:00|2015-11-26 00:00:00|Standard Class|   HP-14815|     Harold Pawlan|Home Office|United States|     Fort Worth|         Texas|      76106|Central|OFF-AP-10002311|Office Supplies|  Appliances|Holmes Replacemen...|   68.81|       5|     0.8|        -123.858|\n",
            "|    16|US-2015-118983|2015-11-22 00:00:00|2015-11-26 00:00:00|Standard Class|   HP-14815|     Harold Pawlan|Home Office|United States|     Fort Worth|         Texas|      76106|Central|OFF-BI-10000756|Office Supplies|     Binders|Storex DuraTech R...|   2.544|       3|     0.8|          -3.816|\n",
            "|    17|CA-2014-105893|2014-11-11 00:00:00|2014-11-18 00:00:00|Standard Class|   PK-19075|         Pete Kriz|   Consumer|United States|        Madison|     Wisconsin|      53711|Central|OFF-ST-10004186|Office Supplies|     Storage|\"Stur-D-Stor Shel...|  665.88|       6|       0|         13.3176|\n",
            "|    18|CA-2014-167164|2014-05-13 00:00:00|2014-05-15 00:00:00|  Second Class|   AG-10270|   Alejandro Grove|   Consumer|United States|    West Jordan|          Utah|      84084|   West|OFF-ST-10000107|Office Supplies|     Storage|Fellowes Super St...|    55.5|       2|       0|9.98999999999999|\n",
            "|    19|CA-2014-143336|2014-08-27 00:00:00|2014-09-01 00:00:00|  Second Class|   ZD-21925|Zuschuss Donatelli|   Consumer|United States|  San Francisco|    California|      94109|   West|OFF-AR-10003056|Office Supplies|         Art|          Newell 341|    8.56|       2|       0|          2.4824|\n",
            "|    20|CA-2014-143336|2014-08-27 00:00:00|2014-09-01 00:00:00|  Second Class|   ZD-21925|Zuschuss Donatelli|   Consumer|United States|  San Francisco|    California|      94109|   West|TEC-PH-10001949|     Technology|      Phones|Cisco SPA 501G IP...|  213.48|       3|     0.2|          16.011|\n",
            "+------+--------------+-------------------+-------------------+--------------+-----------+------------------+-----------+-------------+---------------+--------------+-----------+-------+---------------+---------------+------------+--------------------+--------+--------+--------+----------------+\n",
            "only showing top 20 rows\n",
            "\n"
          ]
        }
      ],
      "source": [
        "df_pyspark.show()"
      ]
    },
    {
      "cell_type": "code",
      "execution_count": null,
      "metadata": {
        "colab": {
          "base_uri": "https://localhost:8080/"
        },
        "id": "c-rLKu-bvS5F",
        "outputId": "1d71d150-7c5c-4dca-cb16-0b77c1547c8f"
      },
      "outputs": [
        {
          "output_type": "stream",
          "name": "stdout",
          "text": [
            "+------+\n",
            "|Row ID|\n",
            "+------+\n",
            "|     1|\n",
            "|     2|\n",
            "|     3|\n",
            "|     4|\n",
            "|     5|\n",
            "|     6|\n",
            "|     7|\n",
            "|     8|\n",
            "|     9|\n",
            "|    10|\n",
            "|    11|\n",
            "|    12|\n",
            "|    13|\n",
            "|    14|\n",
            "|    15|\n",
            "|    16|\n",
            "|    17|\n",
            "|    18|\n",
            "|    19|\n",
            "|    20|\n",
            "+------+\n",
            "only showing top 20 rows\n",
            "\n"
          ]
        }
      ],
      "source": [
        "df_pyspark.select(['Row ID']).show()"
      ]
    },
    {
      "cell_type": "code",
      "execution_count": null,
      "metadata": {
        "id": "uqFJzTzWvfZf",
        "colab": {
          "base_uri": "https://localhost:8080/"
        },
        "outputId": "0c0c9afc-68bf-485b-95f1-6371b7c9c95b"
      },
      "outputs": [
        {
          "output_type": "stream",
          "name": "stdout",
          "text": [
            "+------+--------------+-------------------+-------------------+--------------+-----------+------------------+-----------+-------------+---------------+--------------+-----------+-------+---------------+---------------+------------+--------------------+--------+--------+--------+----------------+-------------------+\n",
            "|Row ID|      Order ID|         Order Date|          Ship Date|     Ship Mode|Customer ID|     Customer Name|    Segment|      Country|           City|         State|Postal Code| Region|     Product ID|       Category|Sub-Category|        Product Name|   Sales|Quantity|Discount|          Profit|       Added Profit|\n",
            "+------+--------------+-------------------+-------------------+--------------+-----------+------------------+-----------+-------------+---------------+--------------+-----------+-------+---------------+---------------+------------+--------------------+--------+--------+--------+----------------+-------------------+\n",
            "|     1|CA-2016-152156|2016-11-08 00:00:00|2016-11-11 00:00:00|  Second Class|   CG-12520|       Claire Gute|   Consumer|United States|      Henderson|      Kentucky|      42420|  South|FUR-BO-10001798|      Furniture|   Bookcases|Bush Somerset Col...|  261.96|       2|       0|         41.9136|            43.9136|\n",
            "|     2|CA-2016-152156|2016-11-08 00:00:00|2016-11-11 00:00:00|  Second Class|   CG-12520|       Claire Gute|   Consumer|United States|      Henderson|      Kentucky|      42420|  South|FUR-CH-10000454|      Furniture|      Chairs|Hon Deluxe Fabric...|  731.94|       3|       0|         219.582|            221.582|\n",
            "|     3|CA-2016-138688|2016-06-12 00:00:00|2016-06-16 00:00:00|  Second Class|   DV-13045|   Darrin Van Huff|  Corporate|United States|    Los Angeles|    California|      90036|   West|OFF-LA-10000240|Office Supplies|      Labels|Self-Adhesive Add...|   14.62|       2|       0|          6.8714|  8.871400000000001|\n",
            "|     4|US-2015-108966|2015-10-11 00:00:00|2015-10-18 00:00:00|Standard Class|   SO-20335|    Sean O'Donnell|   Consumer|United States|Fort Lauderdale|       Florida|      33311|  South|FUR-TA-10000577|      Furniture|      Tables|Bretford CR4500 S...|957.5775|       5|    0.45|        -383.031|           -381.031|\n",
            "|     5|US-2015-108966|2015-10-11 00:00:00|2015-10-18 00:00:00|Standard Class|   SO-20335|    Sean O'Donnell|   Consumer|United States|Fort Lauderdale|       Florida|      33311|  South|OFF-ST-10000760|Office Supplies|     Storage|Eldon Fold 'N Rol...|  22.368|       2|     0.2|          2.5164|             4.5164|\n",
            "|     6|CA-2014-115812|2014-06-09 00:00:00|2014-06-14 00:00:00|Standard Class|   BH-11710|   Brosina Hoffman|   Consumer|United States|    Los Angeles|    California|      90032|   West|FUR-FU-10001487|      Furniture| Furnishings|Eldon Expressions...|   48.86|       7|       0|         14.1694|            16.1694|\n",
            "|     7|CA-2014-115812|2014-06-09 00:00:00|2014-06-14 00:00:00|Standard Class|   BH-11710|   Brosina Hoffman|   Consumer|United States|    Los Angeles|    California|      90032|   West|OFF-AR-10002833|Office Supplies|         Art|          Newell 322|    7.28|       4|       0|          1.9656| 3.9656000000000002|\n",
            "|     8|CA-2014-115812|2014-06-09 00:00:00|2014-06-14 00:00:00|Standard Class|   BH-11710|   Brosina Hoffman|   Consumer|United States|    Los Angeles|    California|      90032|   West|TEC-PH-10002275|     Technology|      Phones|Mitel 5320 IP Pho...| 907.152|       6|     0.2|         90.7152|            92.7152|\n",
            "|     9|CA-2014-115812|2014-06-09 00:00:00|2014-06-14 00:00:00|Standard Class|   BH-11710|   Brosina Hoffman|   Consumer|United States|    Los Angeles|    California|      90032|   West|OFF-BI-10003910|Office Supplies|     Binders|DXL Angle-View Bi...|  18.504|       3|     0.2|          5.7825|             7.7825|\n",
            "|    10|CA-2014-115812|2014-06-09 00:00:00|2014-06-14 00:00:00|Standard Class|   BH-11710|   Brosina Hoffman|   Consumer|United States|    Los Angeles|    California|      90032|   West|OFF-AP-10002892|Office Supplies|  Appliances|Belkin F5C206VTEL...|   114.9|       5|       0|           34.47|              36.47|\n",
            "|    11|CA-2014-115812|2014-06-09 00:00:00|2014-06-14 00:00:00|Standard Class|   BH-11710|   Brosina Hoffman|   Consumer|United States|    Los Angeles|    California|      90032|   West|FUR-TA-10001539|      Furniture|      Tables|Chromcraft Rectan...|1706.184|       9|     0.2|85.3091999999998|   87.3091999999998|\n",
            "|    12|CA-2014-115812|2014-06-09 00:00:00|2014-06-14 00:00:00|Standard Class|   BH-11710|   Brosina Hoffman|   Consumer|United States|    Los Angeles|    California|      90032|   West|TEC-PH-10002033|     Technology|      Phones|Konftel 250 Confe...| 911.424|       4|     0.2|         68.3568|            70.3568|\n",
            "|    13|CA-2017-114412|2017-04-15 00:00:00|2017-04-20 00:00:00|Standard Class|   AA-10480|      Andrew Allen|   Consumer|United States|        Concord|North Carolina|      28027|  South|OFF-PA-10002365|Office Supplies|       Paper|          Xerox 1967|  15.552|       3|     0.2|          5.4432|             7.4432|\n",
            "|    14|CA-2016-161389|2016-12-05 00:00:00|2016-12-10 00:00:00|Standard Class|   IM-15070|      Irene Maddox|   Consumer|United States|        Seattle|    Washington|      98103|   West|OFF-BI-10003656|Office Supplies|     Binders|Fellowes PB200 Pl...| 407.976|       3|     0.2|        132.5922|           134.5922|\n",
            "|    15|US-2015-118983|2015-11-22 00:00:00|2015-11-26 00:00:00|Standard Class|   HP-14815|     Harold Pawlan|Home Office|United States|     Fort Worth|         Texas|      76106|Central|OFF-AP-10002311|Office Supplies|  Appliances|Holmes Replacemen...|   68.81|       5|     0.8|        -123.858|           -121.858|\n",
            "|    16|US-2015-118983|2015-11-22 00:00:00|2015-11-26 00:00:00|Standard Class|   HP-14815|     Harold Pawlan|Home Office|United States|     Fort Worth|         Texas|      76106|Central|OFF-BI-10000756|Office Supplies|     Binders|Storex DuraTech R...|   2.544|       3|     0.8|          -3.816|-1.8159999999999998|\n",
            "|    17|CA-2014-105893|2014-11-11 00:00:00|2014-11-18 00:00:00|Standard Class|   PK-19075|         Pete Kriz|   Consumer|United States|        Madison|     Wisconsin|      53711|Central|OFF-ST-10004186|Office Supplies|     Storage|\"Stur-D-Stor Shel...|  665.88|       6|       0|         13.3176|            15.3176|\n",
            "|    18|CA-2014-167164|2014-05-13 00:00:00|2014-05-15 00:00:00|  Second Class|   AG-10270|   Alejandro Grove|   Consumer|United States|    West Jordan|          Utah|      84084|   West|OFF-ST-10000107|Office Supplies|     Storage|Fellowes Super St...|    55.5|       2|       0|9.98999999999999|  11.98999999999999|\n",
            "|    19|CA-2014-143336|2014-08-27 00:00:00|2014-09-01 00:00:00|  Second Class|   ZD-21925|Zuschuss Donatelli|   Consumer|United States|  San Francisco|    California|      94109|   West|OFF-AR-10003056|Office Supplies|         Art|          Newell 341|    8.56|       2|       0|          2.4824|             4.4824|\n",
            "|    20|CA-2014-143336|2014-08-27 00:00:00|2014-09-01 00:00:00|  Second Class|   ZD-21925|Zuschuss Donatelli|   Consumer|United States|  San Francisco|    California|      94109|   West|TEC-PH-10001949|     Technology|      Phones|Cisco SPA 501G IP...|  213.48|       3|     0.2|          16.011|             18.011|\n",
            "+------+--------------+-------------------+-------------------+--------------+-----------+------------------+-----------+-------------+---------------+--------------+-----------+-------+---------------+---------------+------------+--------------------+--------+--------+--------+----------------+-------------------+\n",
            "only showing top 20 rows\n",
            "\n"
          ]
        }
      ],
      "source": [
        "df_pyspark_changed=df_pyspark.withColumn('Added Profit',df_pyspark['Profit']+2).show()"
      ]
    },
    {
      "cell_type": "code",
      "source": [
        "df_pyspark.drop('Postal Code').show()"
      ],
      "metadata": {
        "colab": {
          "base_uri": "https://localhost:8080/"
        },
        "id": "eWP4DjM08s7O",
        "outputId": "b3489fbd-5e3e-476a-f12d-920dfe6e105b"
      },
      "execution_count": null,
      "outputs": [
        {
          "output_type": "stream",
          "name": "stdout",
          "text": [
            "+------+--------------+-------------------+-------------------+--------------+-----------+------------------+-----------+-------------+---------------+--------------+-------+---------------+---------------+------------+--------------------+--------+--------+--------+----------------+\n",
            "|Row ID|      Order ID|         Order Date|          Ship Date|     Ship Mode|Customer ID|     Customer Name|    Segment|      Country|           City|         State| Region|     Product ID|       Category|Sub-Category|        Product Name|   Sales|Quantity|Discount|          Profit|\n",
            "+------+--------------+-------------------+-------------------+--------------+-----------+------------------+-----------+-------------+---------------+--------------+-------+---------------+---------------+------------+--------------------+--------+--------+--------+----------------+\n",
            "|     1|CA-2016-152156|2016-11-08 00:00:00|2016-11-11 00:00:00|  Second Class|   CG-12520|       Claire Gute|   Consumer|United States|      Henderson|      Kentucky|  South|FUR-BO-10001798|      Furniture|   Bookcases|Bush Somerset Col...|  261.96|       2|       0|         41.9136|\n",
            "|     2|CA-2016-152156|2016-11-08 00:00:00|2016-11-11 00:00:00|  Second Class|   CG-12520|       Claire Gute|   Consumer|United States|      Henderson|      Kentucky|  South|FUR-CH-10000454|      Furniture|      Chairs|Hon Deluxe Fabric...|  731.94|       3|       0|         219.582|\n",
            "|     3|CA-2016-138688|2016-06-12 00:00:00|2016-06-16 00:00:00|  Second Class|   DV-13045|   Darrin Van Huff|  Corporate|United States|    Los Angeles|    California|   West|OFF-LA-10000240|Office Supplies|      Labels|Self-Adhesive Add...|   14.62|       2|       0|          6.8714|\n",
            "|     4|US-2015-108966|2015-10-11 00:00:00|2015-10-18 00:00:00|Standard Class|   SO-20335|    Sean O'Donnell|   Consumer|United States|Fort Lauderdale|       Florida|  South|FUR-TA-10000577|      Furniture|      Tables|Bretford CR4500 S...|957.5775|       5|    0.45|        -383.031|\n",
            "|     5|US-2015-108966|2015-10-11 00:00:00|2015-10-18 00:00:00|Standard Class|   SO-20335|    Sean O'Donnell|   Consumer|United States|Fort Lauderdale|       Florida|  South|OFF-ST-10000760|Office Supplies|     Storage|Eldon Fold 'N Rol...|  22.368|       2|     0.2|          2.5164|\n",
            "|     6|CA-2014-115812|2014-06-09 00:00:00|2014-06-14 00:00:00|Standard Class|   BH-11710|   Brosina Hoffman|   Consumer|United States|    Los Angeles|    California|   West|FUR-FU-10001487|      Furniture| Furnishings|Eldon Expressions...|   48.86|       7|       0|         14.1694|\n",
            "|     7|CA-2014-115812|2014-06-09 00:00:00|2014-06-14 00:00:00|Standard Class|   BH-11710|   Brosina Hoffman|   Consumer|United States|    Los Angeles|    California|   West|OFF-AR-10002833|Office Supplies|         Art|          Newell 322|    7.28|       4|       0|          1.9656|\n",
            "|     8|CA-2014-115812|2014-06-09 00:00:00|2014-06-14 00:00:00|Standard Class|   BH-11710|   Brosina Hoffman|   Consumer|United States|    Los Angeles|    California|   West|TEC-PH-10002275|     Technology|      Phones|Mitel 5320 IP Pho...| 907.152|       6|     0.2|         90.7152|\n",
            "|     9|CA-2014-115812|2014-06-09 00:00:00|2014-06-14 00:00:00|Standard Class|   BH-11710|   Brosina Hoffman|   Consumer|United States|    Los Angeles|    California|   West|OFF-BI-10003910|Office Supplies|     Binders|DXL Angle-View Bi...|  18.504|       3|     0.2|          5.7825|\n",
            "|    10|CA-2014-115812|2014-06-09 00:00:00|2014-06-14 00:00:00|Standard Class|   BH-11710|   Brosina Hoffman|   Consumer|United States|    Los Angeles|    California|   West|OFF-AP-10002892|Office Supplies|  Appliances|Belkin F5C206VTEL...|   114.9|       5|       0|           34.47|\n",
            "|    11|CA-2014-115812|2014-06-09 00:00:00|2014-06-14 00:00:00|Standard Class|   BH-11710|   Brosina Hoffman|   Consumer|United States|    Los Angeles|    California|   West|FUR-TA-10001539|      Furniture|      Tables|Chromcraft Rectan...|1706.184|       9|     0.2|85.3091999999998|\n",
            "|    12|CA-2014-115812|2014-06-09 00:00:00|2014-06-14 00:00:00|Standard Class|   BH-11710|   Brosina Hoffman|   Consumer|United States|    Los Angeles|    California|   West|TEC-PH-10002033|     Technology|      Phones|Konftel 250 Confe...| 911.424|       4|     0.2|         68.3568|\n",
            "|    13|CA-2017-114412|2017-04-15 00:00:00|2017-04-20 00:00:00|Standard Class|   AA-10480|      Andrew Allen|   Consumer|United States|        Concord|North Carolina|  South|OFF-PA-10002365|Office Supplies|       Paper|          Xerox 1967|  15.552|       3|     0.2|          5.4432|\n",
            "|    14|CA-2016-161389|2016-12-05 00:00:00|2016-12-10 00:00:00|Standard Class|   IM-15070|      Irene Maddox|   Consumer|United States|        Seattle|    Washington|   West|OFF-BI-10003656|Office Supplies|     Binders|Fellowes PB200 Pl...| 407.976|       3|     0.2|        132.5922|\n",
            "|    15|US-2015-118983|2015-11-22 00:00:00|2015-11-26 00:00:00|Standard Class|   HP-14815|     Harold Pawlan|Home Office|United States|     Fort Worth|         Texas|Central|OFF-AP-10002311|Office Supplies|  Appliances|Holmes Replacemen...|   68.81|       5|     0.8|        -123.858|\n",
            "|    16|US-2015-118983|2015-11-22 00:00:00|2015-11-26 00:00:00|Standard Class|   HP-14815|     Harold Pawlan|Home Office|United States|     Fort Worth|         Texas|Central|OFF-BI-10000756|Office Supplies|     Binders|Storex DuraTech R...|   2.544|       3|     0.8|          -3.816|\n",
            "|    17|CA-2014-105893|2014-11-11 00:00:00|2014-11-18 00:00:00|Standard Class|   PK-19075|         Pete Kriz|   Consumer|United States|        Madison|     Wisconsin|Central|OFF-ST-10004186|Office Supplies|     Storage|\"Stur-D-Stor Shel...|  665.88|       6|       0|         13.3176|\n",
            "|    18|CA-2014-167164|2014-05-13 00:00:00|2014-05-15 00:00:00|  Second Class|   AG-10270|   Alejandro Grove|   Consumer|United States|    West Jordan|          Utah|   West|OFF-ST-10000107|Office Supplies|     Storage|Fellowes Super St...|    55.5|       2|       0|9.98999999999999|\n",
            "|    19|CA-2014-143336|2014-08-27 00:00:00|2014-09-01 00:00:00|  Second Class|   ZD-21925|Zuschuss Donatelli|   Consumer|United States|  San Francisco|    California|   West|OFF-AR-10003056|Office Supplies|         Art|          Newell 341|    8.56|       2|       0|          2.4824|\n",
            "|    20|CA-2014-143336|2014-08-27 00:00:00|2014-09-01 00:00:00|  Second Class|   ZD-21925|Zuschuss Donatelli|   Consumer|United States|  San Francisco|    California|   West|TEC-PH-10001949|     Technology|      Phones|Cisco SPA 501G IP...|  213.48|       3|     0.2|          16.011|\n",
            "+------+--------------+-------------------+-------------------+--------------+-----------+------------------+-----------+-------------+---------------+--------------+-------+---------------+---------------+------------+--------------------+--------+--------+--------+----------------+\n",
            "only showing top 20 rows\n",
            "\n"
          ]
        }
      ]
    },
    {
      "cell_type": "code",
      "source": [
        "df_pyspark.withColumnRenamed('Profit','ProfitNew').show()"
      ],
      "metadata": {
        "colab": {
          "base_uri": "https://localhost:8080/"
        },
        "id": "GiDSAIyu8zMA",
        "outputId": "e377e3a4-323c-4fd6-849c-f070fd8e6719"
      },
      "execution_count": null,
      "outputs": [
        {
          "output_type": "stream",
          "name": "stdout",
          "text": [
            "+------+--------------+-------------------+-------------------+--------------+-----------+------------------+-----------+-------------+---------------+--------------+-----------+-------+---------------+---------------+------------+--------------------+--------+--------+--------+----------------+\n",
            "|Row ID|      Order ID|         Order Date|          Ship Date|     Ship Mode|Customer ID|     Customer Name|    Segment|      Country|           City|         State|Postal Code| Region|     Product ID|       Category|Sub-Category|        Product Name|   Sales|Quantity|Discount|       ProfitNew|\n",
            "+------+--------------+-------------------+-------------------+--------------+-----------+------------------+-----------+-------------+---------------+--------------+-----------+-------+---------------+---------------+------------+--------------------+--------+--------+--------+----------------+\n",
            "|     1|CA-2016-152156|2016-11-08 00:00:00|2016-11-11 00:00:00|  Second Class|   CG-12520|       Claire Gute|   Consumer|United States|      Henderson|      Kentucky|      42420|  South|FUR-BO-10001798|      Furniture|   Bookcases|Bush Somerset Col...|  261.96|       2|       0|         41.9136|\n",
            "|     2|CA-2016-152156|2016-11-08 00:00:00|2016-11-11 00:00:00|  Second Class|   CG-12520|       Claire Gute|   Consumer|United States|      Henderson|      Kentucky|      42420|  South|FUR-CH-10000454|      Furniture|      Chairs|Hon Deluxe Fabric...|  731.94|       3|       0|         219.582|\n",
            "|     3|CA-2016-138688|2016-06-12 00:00:00|2016-06-16 00:00:00|  Second Class|   DV-13045|   Darrin Van Huff|  Corporate|United States|    Los Angeles|    California|      90036|   West|OFF-LA-10000240|Office Supplies|      Labels|Self-Adhesive Add...|   14.62|       2|       0|          6.8714|\n",
            "|     4|US-2015-108966|2015-10-11 00:00:00|2015-10-18 00:00:00|Standard Class|   SO-20335|    Sean O'Donnell|   Consumer|United States|Fort Lauderdale|       Florida|      33311|  South|FUR-TA-10000577|      Furniture|      Tables|Bretford CR4500 S...|957.5775|       5|    0.45|        -383.031|\n",
            "|     5|US-2015-108966|2015-10-11 00:00:00|2015-10-18 00:00:00|Standard Class|   SO-20335|    Sean O'Donnell|   Consumer|United States|Fort Lauderdale|       Florida|      33311|  South|OFF-ST-10000760|Office Supplies|     Storage|Eldon Fold 'N Rol...|  22.368|       2|     0.2|          2.5164|\n",
            "|     6|CA-2014-115812|2014-06-09 00:00:00|2014-06-14 00:00:00|Standard Class|   BH-11710|   Brosina Hoffman|   Consumer|United States|    Los Angeles|    California|      90032|   West|FUR-FU-10001487|      Furniture| Furnishings|Eldon Expressions...|   48.86|       7|       0|         14.1694|\n",
            "|     7|CA-2014-115812|2014-06-09 00:00:00|2014-06-14 00:00:00|Standard Class|   BH-11710|   Brosina Hoffman|   Consumer|United States|    Los Angeles|    California|      90032|   West|OFF-AR-10002833|Office Supplies|         Art|          Newell 322|    7.28|       4|       0|          1.9656|\n",
            "|     8|CA-2014-115812|2014-06-09 00:00:00|2014-06-14 00:00:00|Standard Class|   BH-11710|   Brosina Hoffman|   Consumer|United States|    Los Angeles|    California|      90032|   West|TEC-PH-10002275|     Technology|      Phones|Mitel 5320 IP Pho...| 907.152|       6|     0.2|         90.7152|\n",
            "|     9|CA-2014-115812|2014-06-09 00:00:00|2014-06-14 00:00:00|Standard Class|   BH-11710|   Brosina Hoffman|   Consumer|United States|    Los Angeles|    California|      90032|   West|OFF-BI-10003910|Office Supplies|     Binders|DXL Angle-View Bi...|  18.504|       3|     0.2|          5.7825|\n",
            "|    10|CA-2014-115812|2014-06-09 00:00:00|2014-06-14 00:00:00|Standard Class|   BH-11710|   Brosina Hoffman|   Consumer|United States|    Los Angeles|    California|      90032|   West|OFF-AP-10002892|Office Supplies|  Appliances|Belkin F5C206VTEL...|   114.9|       5|       0|           34.47|\n",
            "|    11|CA-2014-115812|2014-06-09 00:00:00|2014-06-14 00:00:00|Standard Class|   BH-11710|   Brosina Hoffman|   Consumer|United States|    Los Angeles|    California|      90032|   West|FUR-TA-10001539|      Furniture|      Tables|Chromcraft Rectan...|1706.184|       9|     0.2|85.3091999999998|\n",
            "|    12|CA-2014-115812|2014-06-09 00:00:00|2014-06-14 00:00:00|Standard Class|   BH-11710|   Brosina Hoffman|   Consumer|United States|    Los Angeles|    California|      90032|   West|TEC-PH-10002033|     Technology|      Phones|Konftel 250 Confe...| 911.424|       4|     0.2|         68.3568|\n",
            "|    13|CA-2017-114412|2017-04-15 00:00:00|2017-04-20 00:00:00|Standard Class|   AA-10480|      Andrew Allen|   Consumer|United States|        Concord|North Carolina|      28027|  South|OFF-PA-10002365|Office Supplies|       Paper|          Xerox 1967|  15.552|       3|     0.2|          5.4432|\n",
            "|    14|CA-2016-161389|2016-12-05 00:00:00|2016-12-10 00:00:00|Standard Class|   IM-15070|      Irene Maddox|   Consumer|United States|        Seattle|    Washington|      98103|   West|OFF-BI-10003656|Office Supplies|     Binders|Fellowes PB200 Pl...| 407.976|       3|     0.2|        132.5922|\n",
            "|    15|US-2015-118983|2015-11-22 00:00:00|2015-11-26 00:00:00|Standard Class|   HP-14815|     Harold Pawlan|Home Office|United States|     Fort Worth|         Texas|      76106|Central|OFF-AP-10002311|Office Supplies|  Appliances|Holmes Replacemen...|   68.81|       5|     0.8|        -123.858|\n",
            "|    16|US-2015-118983|2015-11-22 00:00:00|2015-11-26 00:00:00|Standard Class|   HP-14815|     Harold Pawlan|Home Office|United States|     Fort Worth|         Texas|      76106|Central|OFF-BI-10000756|Office Supplies|     Binders|Storex DuraTech R...|   2.544|       3|     0.8|          -3.816|\n",
            "|    17|CA-2014-105893|2014-11-11 00:00:00|2014-11-18 00:00:00|Standard Class|   PK-19075|         Pete Kriz|   Consumer|United States|        Madison|     Wisconsin|      53711|Central|OFF-ST-10004186|Office Supplies|     Storage|\"Stur-D-Stor Shel...|  665.88|       6|       0|         13.3176|\n",
            "|    18|CA-2014-167164|2014-05-13 00:00:00|2014-05-15 00:00:00|  Second Class|   AG-10270|   Alejandro Grove|   Consumer|United States|    West Jordan|          Utah|      84084|   West|OFF-ST-10000107|Office Supplies|     Storage|Fellowes Super St...|    55.5|       2|       0|9.98999999999999|\n",
            "|    19|CA-2014-143336|2014-08-27 00:00:00|2014-09-01 00:00:00|  Second Class|   ZD-21925|Zuschuss Donatelli|   Consumer|United States|  San Francisco|    California|      94109|   West|OFF-AR-10003056|Office Supplies|         Art|          Newell 341|    8.56|       2|       0|          2.4824|\n",
            "|    20|CA-2014-143336|2014-08-27 00:00:00|2014-09-01 00:00:00|  Second Class|   ZD-21925|Zuschuss Donatelli|   Consumer|United States|  San Francisco|    California|      94109|   West|TEC-PH-10001949|     Technology|      Phones|Cisco SPA 501G IP...|  213.48|       3|     0.2|          16.011|\n",
            "+------+--------------+-------------------+-------------------+--------------+-----------+------------------+-----------+-------------+---------------+--------------+-----------+-------+---------------+---------------+------------+--------------------+--------+--------+--------+----------------+\n",
            "only showing top 20 rows\n",
            "\n"
          ]
        }
      ]
    },
    {
      "cell_type": "code",
      "source": [
        "df_pyspark.na.drop().show"
      ],
      "metadata": {
        "id": "KrPFP01x9SuH",
        "colab": {
          "base_uri": "https://localhost:8080/"
        },
        "outputId": "ddc07e7b-cea4-43d3-fb6e-7005d69bc80b"
      },
      "execution_count": null,
      "outputs": [
        {
          "output_type": "execute_result",
          "data": {
            "text/plain": [
              "<bound method DataFrame.show of DataFrame[Row ID: int, Order ID: string, Order Date: timestamp, Ship Date: timestamp, Ship Mode: string, Customer ID: string, Customer Name: string, Segment: string, Country: string, City: string, State: string, Postal Code: int, Region: string, Product ID: string, Category: string, Sub-Category: string, Product Name: string, Sales: string, Quantity: string, Discount: string, Profit: double]>"
            ]
          },
          "metadata": {},
          "execution_count": 108
        }
      ]
    },
    {
      "cell_type": "code",
      "source": [
        "df_pyspark.na.drop(how=\"any\").show()"
      ],
      "metadata": {
        "colab": {
          "base_uri": "https://localhost:8080/"
        },
        "id": "vVFn38UABzKT",
        "outputId": "3ecc4015-b9a5-4821-ba84-e88786ac49bb"
      },
      "execution_count": null,
      "outputs": [
        {
          "output_type": "stream",
          "name": "stdout",
          "text": [
            "+------+--------------+-------------------+-------------------+--------------+-----------+------------------+-----------+-------------+---------------+--------------+-----------+-------+---------------+---------------+------------+--------------------+--------+--------+--------+----------------+\n",
            "|Row ID|      Order ID|         Order Date|          Ship Date|     Ship Mode|Customer ID|     Customer Name|    Segment|      Country|           City|         State|Postal Code| Region|     Product ID|       Category|Sub-Category|        Product Name|   Sales|Quantity|Discount|          Profit|\n",
            "+------+--------------+-------------------+-------------------+--------------+-----------+------------------+-----------+-------------+---------------+--------------+-----------+-------+---------------+---------------+------------+--------------------+--------+--------+--------+----------------+\n",
            "|     1|CA-2016-152156|2016-11-08 00:00:00|2016-11-11 00:00:00|  Second Class|   CG-12520|       Claire Gute|   Consumer|United States|      Henderson|      Kentucky|      42420|  South|FUR-BO-10001798|      Furniture|   Bookcases|Bush Somerset Col...|  261.96|       2|       0|         41.9136|\n",
            "|     2|CA-2016-152156|2016-11-08 00:00:00|2016-11-11 00:00:00|  Second Class|   CG-12520|       Claire Gute|   Consumer|United States|      Henderson|      Kentucky|      42420|  South|FUR-CH-10000454|      Furniture|      Chairs|Hon Deluxe Fabric...|  731.94|       3|       0|         219.582|\n",
            "|     3|CA-2016-138688|2016-06-12 00:00:00|2016-06-16 00:00:00|  Second Class|   DV-13045|   Darrin Van Huff|  Corporate|United States|    Los Angeles|    California|      90036|   West|OFF-LA-10000240|Office Supplies|      Labels|Self-Adhesive Add...|   14.62|       2|       0|          6.8714|\n",
            "|     4|US-2015-108966|2015-10-11 00:00:00|2015-10-18 00:00:00|Standard Class|   SO-20335|    Sean O'Donnell|   Consumer|United States|Fort Lauderdale|       Florida|      33311|  South|FUR-TA-10000577|      Furniture|      Tables|Bretford CR4500 S...|957.5775|       5|    0.45|        -383.031|\n",
            "|     5|US-2015-108966|2015-10-11 00:00:00|2015-10-18 00:00:00|Standard Class|   SO-20335|    Sean O'Donnell|   Consumer|United States|Fort Lauderdale|       Florida|      33311|  South|OFF-ST-10000760|Office Supplies|     Storage|Eldon Fold 'N Rol...|  22.368|       2|     0.2|          2.5164|\n",
            "|     6|CA-2014-115812|2014-06-09 00:00:00|2014-06-14 00:00:00|Standard Class|   BH-11710|   Brosina Hoffman|   Consumer|United States|    Los Angeles|    California|      90032|   West|FUR-FU-10001487|      Furniture| Furnishings|Eldon Expressions...|   48.86|       7|       0|         14.1694|\n",
            "|     7|CA-2014-115812|2014-06-09 00:00:00|2014-06-14 00:00:00|Standard Class|   BH-11710|   Brosina Hoffman|   Consumer|United States|    Los Angeles|    California|      90032|   West|OFF-AR-10002833|Office Supplies|         Art|          Newell 322|    7.28|       4|       0|          1.9656|\n",
            "|     8|CA-2014-115812|2014-06-09 00:00:00|2014-06-14 00:00:00|Standard Class|   BH-11710|   Brosina Hoffman|   Consumer|United States|    Los Angeles|    California|      90032|   West|TEC-PH-10002275|     Technology|      Phones|Mitel 5320 IP Pho...| 907.152|       6|     0.2|         90.7152|\n",
            "|     9|CA-2014-115812|2014-06-09 00:00:00|2014-06-14 00:00:00|Standard Class|   BH-11710|   Brosina Hoffman|   Consumer|United States|    Los Angeles|    California|      90032|   West|OFF-BI-10003910|Office Supplies|     Binders|DXL Angle-View Bi...|  18.504|       3|     0.2|          5.7825|\n",
            "|    10|CA-2014-115812|2014-06-09 00:00:00|2014-06-14 00:00:00|Standard Class|   BH-11710|   Brosina Hoffman|   Consumer|United States|    Los Angeles|    California|      90032|   West|OFF-AP-10002892|Office Supplies|  Appliances|Belkin F5C206VTEL...|   114.9|       5|       0|           34.47|\n",
            "|    11|CA-2014-115812|2014-06-09 00:00:00|2014-06-14 00:00:00|Standard Class|   BH-11710|   Brosina Hoffman|   Consumer|United States|    Los Angeles|    California|      90032|   West|FUR-TA-10001539|      Furniture|      Tables|Chromcraft Rectan...|1706.184|       9|     0.2|85.3091999999998|\n",
            "|    12|CA-2014-115812|2014-06-09 00:00:00|2014-06-14 00:00:00|Standard Class|   BH-11710|   Brosina Hoffman|   Consumer|United States|    Los Angeles|    California|      90032|   West|TEC-PH-10002033|     Technology|      Phones|Konftel 250 Confe...| 911.424|       4|     0.2|         68.3568|\n",
            "|    13|CA-2017-114412|2017-04-15 00:00:00|2017-04-20 00:00:00|Standard Class|   AA-10480|      Andrew Allen|   Consumer|United States|        Concord|North Carolina|      28027|  South|OFF-PA-10002365|Office Supplies|       Paper|          Xerox 1967|  15.552|       3|     0.2|          5.4432|\n",
            "|    14|CA-2016-161389|2016-12-05 00:00:00|2016-12-10 00:00:00|Standard Class|   IM-15070|      Irene Maddox|   Consumer|United States|        Seattle|    Washington|      98103|   West|OFF-BI-10003656|Office Supplies|     Binders|Fellowes PB200 Pl...| 407.976|       3|     0.2|        132.5922|\n",
            "|    15|US-2015-118983|2015-11-22 00:00:00|2015-11-26 00:00:00|Standard Class|   HP-14815|     Harold Pawlan|Home Office|United States|     Fort Worth|         Texas|      76106|Central|OFF-AP-10002311|Office Supplies|  Appliances|Holmes Replacemen...|   68.81|       5|     0.8|        -123.858|\n",
            "|    16|US-2015-118983|2015-11-22 00:00:00|2015-11-26 00:00:00|Standard Class|   HP-14815|     Harold Pawlan|Home Office|United States|     Fort Worth|         Texas|      76106|Central|OFF-BI-10000756|Office Supplies|     Binders|Storex DuraTech R...|   2.544|       3|     0.8|          -3.816|\n",
            "|    17|CA-2014-105893|2014-11-11 00:00:00|2014-11-18 00:00:00|Standard Class|   PK-19075|         Pete Kriz|   Consumer|United States|        Madison|     Wisconsin|      53711|Central|OFF-ST-10004186|Office Supplies|     Storage|\"Stur-D-Stor Shel...|  665.88|       6|       0|         13.3176|\n",
            "|    18|CA-2014-167164|2014-05-13 00:00:00|2014-05-15 00:00:00|  Second Class|   AG-10270|   Alejandro Grove|   Consumer|United States|    West Jordan|          Utah|      84084|   West|OFF-ST-10000107|Office Supplies|     Storage|Fellowes Super St...|    55.5|       2|       0|9.98999999999999|\n",
            "|    19|CA-2014-143336|2014-08-27 00:00:00|2014-09-01 00:00:00|  Second Class|   ZD-21925|Zuschuss Donatelli|   Consumer|United States|  San Francisco|    California|      94109|   West|OFF-AR-10003056|Office Supplies|         Art|          Newell 341|    8.56|       2|       0|          2.4824|\n",
            "|    20|CA-2014-143336|2014-08-27 00:00:00|2014-09-01 00:00:00|  Second Class|   ZD-21925|Zuschuss Donatelli|   Consumer|United States|  San Francisco|    California|      94109|   West|TEC-PH-10001949|     Technology|      Phones|Cisco SPA 501G IP...|  213.48|       3|     0.2|          16.011|\n",
            "+------+--------------+-------------------+-------------------+--------------+-----------+------------------+-----------+-------------+---------------+--------------+-----------+-------+---------------+---------------+------------+--------------------+--------+--------+--------+----------------+\n",
            "only showing top 20 rows\n",
            "\n"
          ]
        }
      ]
    },
    {
      "cell_type": "code",
      "source": [
        "df_pyspark.na.drop(how=\"any\",thresh=3).show()"
      ],
      "metadata": {
        "colab": {
          "base_uri": "https://localhost:8080/"
        },
        "id": "19NxdyRsCCDy",
        "outputId": "7f75a8e6-6272-43f5-943e-53355db5bb71"
      },
      "execution_count": null,
      "outputs": [
        {
          "output_type": "stream",
          "name": "stdout",
          "text": [
            "+------+--------------+-------------------+-------------------+--------------+-----------+------------------+-----------+-------------+---------------+--------------+-----------+-------+---------------+---------------+------------+--------------------+--------+--------+--------+----------------+\n",
            "|Row ID|      Order ID|         Order Date|          Ship Date|     Ship Mode|Customer ID|     Customer Name|    Segment|      Country|           City|         State|Postal Code| Region|     Product ID|       Category|Sub-Category|        Product Name|   Sales|Quantity|Discount|          Profit|\n",
            "+------+--------------+-------------------+-------------------+--------------+-----------+------------------+-----------+-------------+---------------+--------------+-----------+-------+---------------+---------------+------------+--------------------+--------+--------+--------+----------------+\n",
            "|     1|CA-2016-152156|2016-11-08 00:00:00|2016-11-11 00:00:00|  Second Class|   CG-12520|       Claire Gute|   Consumer|United States|      Henderson|      Kentucky|      42420|  South|FUR-BO-10001798|      Furniture|   Bookcases|Bush Somerset Col...|  261.96|       2|       0|         41.9136|\n",
            "|     2|CA-2016-152156|2016-11-08 00:00:00|2016-11-11 00:00:00|  Second Class|   CG-12520|       Claire Gute|   Consumer|United States|      Henderson|      Kentucky|      42420|  South|FUR-CH-10000454|      Furniture|      Chairs|Hon Deluxe Fabric...|  731.94|       3|       0|         219.582|\n",
            "|     3|CA-2016-138688|2016-06-12 00:00:00|2016-06-16 00:00:00|  Second Class|   DV-13045|   Darrin Van Huff|  Corporate|United States|    Los Angeles|    California|      90036|   West|OFF-LA-10000240|Office Supplies|      Labels|Self-Adhesive Add...|   14.62|       2|       0|          6.8714|\n",
            "|     4|US-2015-108966|2015-10-11 00:00:00|2015-10-18 00:00:00|Standard Class|   SO-20335|    Sean O'Donnell|   Consumer|United States|Fort Lauderdale|       Florida|      33311|  South|FUR-TA-10000577|      Furniture|      Tables|Bretford CR4500 S...|957.5775|       5|    0.45|        -383.031|\n",
            "|     5|US-2015-108966|2015-10-11 00:00:00|2015-10-18 00:00:00|Standard Class|   SO-20335|    Sean O'Donnell|   Consumer|United States|Fort Lauderdale|       Florida|      33311|  South|OFF-ST-10000760|Office Supplies|     Storage|Eldon Fold 'N Rol...|  22.368|       2|     0.2|          2.5164|\n",
            "|     6|CA-2014-115812|2014-06-09 00:00:00|2014-06-14 00:00:00|Standard Class|   BH-11710|   Brosina Hoffman|   Consumer|United States|    Los Angeles|    California|      90032|   West|FUR-FU-10001487|      Furniture| Furnishings|Eldon Expressions...|   48.86|       7|       0|         14.1694|\n",
            "|     7|CA-2014-115812|2014-06-09 00:00:00|2014-06-14 00:00:00|Standard Class|   BH-11710|   Brosina Hoffman|   Consumer|United States|    Los Angeles|    California|      90032|   West|OFF-AR-10002833|Office Supplies|         Art|          Newell 322|    7.28|       4|       0|          1.9656|\n",
            "|     8|CA-2014-115812|2014-06-09 00:00:00|2014-06-14 00:00:00|Standard Class|   BH-11710|   Brosina Hoffman|   Consumer|United States|    Los Angeles|    California|      90032|   West|TEC-PH-10002275|     Technology|      Phones|Mitel 5320 IP Pho...| 907.152|       6|     0.2|         90.7152|\n",
            "|     9|CA-2014-115812|2014-06-09 00:00:00|2014-06-14 00:00:00|Standard Class|   BH-11710|   Brosina Hoffman|   Consumer|United States|    Los Angeles|    California|      90032|   West|OFF-BI-10003910|Office Supplies|     Binders|DXL Angle-View Bi...|  18.504|       3|     0.2|          5.7825|\n",
            "|    10|CA-2014-115812|2014-06-09 00:00:00|2014-06-14 00:00:00|Standard Class|   BH-11710|   Brosina Hoffman|   Consumer|United States|    Los Angeles|    California|      90032|   West|OFF-AP-10002892|Office Supplies|  Appliances|Belkin F5C206VTEL...|   114.9|       5|       0|           34.47|\n",
            "|    11|CA-2014-115812|2014-06-09 00:00:00|2014-06-14 00:00:00|Standard Class|   BH-11710|   Brosina Hoffman|   Consumer|United States|    Los Angeles|    California|      90032|   West|FUR-TA-10001539|      Furniture|      Tables|Chromcraft Rectan...|1706.184|       9|     0.2|85.3091999999998|\n",
            "|    12|CA-2014-115812|2014-06-09 00:00:00|2014-06-14 00:00:00|Standard Class|   BH-11710|   Brosina Hoffman|   Consumer|United States|    Los Angeles|    California|      90032|   West|TEC-PH-10002033|     Technology|      Phones|Konftel 250 Confe...| 911.424|       4|     0.2|         68.3568|\n",
            "|    13|CA-2017-114412|2017-04-15 00:00:00|2017-04-20 00:00:00|Standard Class|   AA-10480|      Andrew Allen|   Consumer|United States|        Concord|North Carolina|      28027|  South|OFF-PA-10002365|Office Supplies|       Paper|          Xerox 1967|  15.552|       3|     0.2|          5.4432|\n",
            "|    14|CA-2016-161389|2016-12-05 00:00:00|2016-12-10 00:00:00|Standard Class|   IM-15070|      Irene Maddox|   Consumer|United States|        Seattle|    Washington|      98103|   West|OFF-BI-10003656|Office Supplies|     Binders|Fellowes PB200 Pl...| 407.976|       3|     0.2|        132.5922|\n",
            "|    15|US-2015-118983|2015-11-22 00:00:00|2015-11-26 00:00:00|Standard Class|   HP-14815|     Harold Pawlan|Home Office|United States|     Fort Worth|         Texas|      76106|Central|OFF-AP-10002311|Office Supplies|  Appliances|Holmes Replacemen...|   68.81|       5|     0.8|        -123.858|\n",
            "|    16|US-2015-118983|2015-11-22 00:00:00|2015-11-26 00:00:00|Standard Class|   HP-14815|     Harold Pawlan|Home Office|United States|     Fort Worth|         Texas|      76106|Central|OFF-BI-10000756|Office Supplies|     Binders|Storex DuraTech R...|   2.544|       3|     0.8|          -3.816|\n",
            "|    17|CA-2014-105893|2014-11-11 00:00:00|2014-11-18 00:00:00|Standard Class|   PK-19075|         Pete Kriz|   Consumer|United States|        Madison|     Wisconsin|      53711|Central|OFF-ST-10004186|Office Supplies|     Storage|\"Stur-D-Stor Shel...|  665.88|       6|       0|         13.3176|\n",
            "|    18|CA-2014-167164|2014-05-13 00:00:00|2014-05-15 00:00:00|  Second Class|   AG-10270|   Alejandro Grove|   Consumer|United States|    West Jordan|          Utah|      84084|   West|OFF-ST-10000107|Office Supplies|     Storage|Fellowes Super St...|    55.5|       2|       0|9.98999999999999|\n",
            "|    19|CA-2014-143336|2014-08-27 00:00:00|2014-09-01 00:00:00|  Second Class|   ZD-21925|Zuschuss Donatelli|   Consumer|United States|  San Francisco|    California|      94109|   West|OFF-AR-10003056|Office Supplies|         Art|          Newell 341|    8.56|       2|       0|          2.4824|\n",
            "|    20|CA-2014-143336|2014-08-27 00:00:00|2014-09-01 00:00:00|  Second Class|   ZD-21925|Zuschuss Donatelli|   Consumer|United States|  San Francisco|    California|      94109|   West|TEC-PH-10001949|     Technology|      Phones|Cisco SPA 501G IP...|  213.48|       3|     0.2|          16.011|\n",
            "+------+--------------+-------------------+-------------------+--------------+-----------+------------------+-----------+-------------+---------------+--------------+-----------+-------+---------------+---------------+------------+--------------------+--------+--------+--------+----------------+\n",
            "only showing top 20 rows\n",
            "\n"
          ]
        }
      ]
    },
    {
      "cell_type": "code",
      "source": [
        "df_pyspark.na.drop(how=\"any\",subset=['Ship Date']).show()"
      ],
      "metadata": {
        "colab": {
          "base_uri": "https://localhost:8080/"
        },
        "id": "V8dS8oiKCNsi",
        "outputId": "9985ee9a-5cb4-41af-cf3f-70e211a76cfe"
      },
      "execution_count": null,
      "outputs": [
        {
          "output_type": "stream",
          "name": "stdout",
          "text": [
            "+------+--------------+-------------------+-------------------+--------------+-----------+------------------+-----------+-------------+---------------+--------------+-----------+-------+---------------+---------------+------------+--------------------+--------+--------+--------+----------------+\n",
            "|Row ID|      Order ID|         Order Date|          Ship Date|     Ship Mode|Customer ID|     Customer Name|    Segment|      Country|           City|         State|Postal Code| Region|     Product ID|       Category|Sub-Category|        Product Name|   Sales|Quantity|Discount|          Profit|\n",
            "+------+--------------+-------------------+-------------------+--------------+-----------+------------------+-----------+-------------+---------------+--------------+-----------+-------+---------------+---------------+------------+--------------------+--------+--------+--------+----------------+\n",
            "|     1|CA-2016-152156|2016-11-08 00:00:00|2016-11-11 00:00:00|  Second Class|   CG-12520|       Claire Gute|   Consumer|United States|      Henderson|      Kentucky|      42420|  South|FUR-BO-10001798|      Furniture|   Bookcases|Bush Somerset Col...|  261.96|       2|       0|         41.9136|\n",
            "|     2|CA-2016-152156|2016-11-08 00:00:00|2016-11-11 00:00:00|  Second Class|   CG-12520|       Claire Gute|   Consumer|United States|      Henderson|      Kentucky|      42420|  South|FUR-CH-10000454|      Furniture|      Chairs|Hon Deluxe Fabric...|  731.94|       3|       0|         219.582|\n",
            "|     3|CA-2016-138688|2016-06-12 00:00:00|2016-06-16 00:00:00|  Second Class|   DV-13045|   Darrin Van Huff|  Corporate|United States|    Los Angeles|    California|      90036|   West|OFF-LA-10000240|Office Supplies|      Labels|Self-Adhesive Add...|   14.62|       2|       0|          6.8714|\n",
            "|     4|US-2015-108966|2015-10-11 00:00:00|2015-10-18 00:00:00|Standard Class|   SO-20335|    Sean O'Donnell|   Consumer|United States|Fort Lauderdale|       Florida|      33311|  South|FUR-TA-10000577|      Furniture|      Tables|Bretford CR4500 S...|957.5775|       5|    0.45|        -383.031|\n",
            "|     5|US-2015-108966|2015-10-11 00:00:00|2015-10-18 00:00:00|Standard Class|   SO-20335|    Sean O'Donnell|   Consumer|United States|Fort Lauderdale|       Florida|      33311|  South|OFF-ST-10000760|Office Supplies|     Storage|Eldon Fold 'N Rol...|  22.368|       2|     0.2|          2.5164|\n",
            "|     6|CA-2014-115812|2014-06-09 00:00:00|2014-06-14 00:00:00|Standard Class|   BH-11710|   Brosina Hoffman|   Consumer|United States|    Los Angeles|    California|      90032|   West|FUR-FU-10001487|      Furniture| Furnishings|Eldon Expressions...|   48.86|       7|       0|         14.1694|\n",
            "|     7|CA-2014-115812|2014-06-09 00:00:00|2014-06-14 00:00:00|Standard Class|   BH-11710|   Brosina Hoffman|   Consumer|United States|    Los Angeles|    California|      90032|   West|OFF-AR-10002833|Office Supplies|         Art|          Newell 322|    7.28|       4|       0|          1.9656|\n",
            "|     8|CA-2014-115812|2014-06-09 00:00:00|2014-06-14 00:00:00|Standard Class|   BH-11710|   Brosina Hoffman|   Consumer|United States|    Los Angeles|    California|      90032|   West|TEC-PH-10002275|     Technology|      Phones|Mitel 5320 IP Pho...| 907.152|       6|     0.2|         90.7152|\n",
            "|     9|CA-2014-115812|2014-06-09 00:00:00|2014-06-14 00:00:00|Standard Class|   BH-11710|   Brosina Hoffman|   Consumer|United States|    Los Angeles|    California|      90032|   West|OFF-BI-10003910|Office Supplies|     Binders|DXL Angle-View Bi...|  18.504|       3|     0.2|          5.7825|\n",
            "|    10|CA-2014-115812|2014-06-09 00:00:00|2014-06-14 00:00:00|Standard Class|   BH-11710|   Brosina Hoffman|   Consumer|United States|    Los Angeles|    California|      90032|   West|OFF-AP-10002892|Office Supplies|  Appliances|Belkin F5C206VTEL...|   114.9|       5|       0|           34.47|\n",
            "|    11|CA-2014-115812|2014-06-09 00:00:00|2014-06-14 00:00:00|Standard Class|   BH-11710|   Brosina Hoffman|   Consumer|United States|    Los Angeles|    California|      90032|   West|FUR-TA-10001539|      Furniture|      Tables|Chromcraft Rectan...|1706.184|       9|     0.2|85.3091999999998|\n",
            "|    12|CA-2014-115812|2014-06-09 00:00:00|2014-06-14 00:00:00|Standard Class|   BH-11710|   Brosina Hoffman|   Consumer|United States|    Los Angeles|    California|      90032|   West|TEC-PH-10002033|     Technology|      Phones|Konftel 250 Confe...| 911.424|       4|     0.2|         68.3568|\n",
            "|    13|CA-2017-114412|2017-04-15 00:00:00|2017-04-20 00:00:00|Standard Class|   AA-10480|      Andrew Allen|   Consumer|United States|        Concord|North Carolina|      28027|  South|OFF-PA-10002365|Office Supplies|       Paper|          Xerox 1967|  15.552|       3|     0.2|          5.4432|\n",
            "|    14|CA-2016-161389|2016-12-05 00:00:00|2016-12-10 00:00:00|Standard Class|   IM-15070|      Irene Maddox|   Consumer|United States|        Seattle|    Washington|      98103|   West|OFF-BI-10003656|Office Supplies|     Binders|Fellowes PB200 Pl...| 407.976|       3|     0.2|        132.5922|\n",
            "|    15|US-2015-118983|2015-11-22 00:00:00|2015-11-26 00:00:00|Standard Class|   HP-14815|     Harold Pawlan|Home Office|United States|     Fort Worth|         Texas|      76106|Central|OFF-AP-10002311|Office Supplies|  Appliances|Holmes Replacemen...|   68.81|       5|     0.8|        -123.858|\n",
            "|    16|US-2015-118983|2015-11-22 00:00:00|2015-11-26 00:00:00|Standard Class|   HP-14815|     Harold Pawlan|Home Office|United States|     Fort Worth|         Texas|      76106|Central|OFF-BI-10000756|Office Supplies|     Binders|Storex DuraTech R...|   2.544|       3|     0.8|          -3.816|\n",
            "|    17|CA-2014-105893|2014-11-11 00:00:00|2014-11-18 00:00:00|Standard Class|   PK-19075|         Pete Kriz|   Consumer|United States|        Madison|     Wisconsin|      53711|Central|OFF-ST-10004186|Office Supplies|     Storage|\"Stur-D-Stor Shel...|  665.88|       6|       0|         13.3176|\n",
            "|    18|CA-2014-167164|2014-05-13 00:00:00|2014-05-15 00:00:00|  Second Class|   AG-10270|   Alejandro Grove|   Consumer|United States|    West Jordan|          Utah|      84084|   West|OFF-ST-10000107|Office Supplies|     Storage|Fellowes Super St...|    55.5|       2|       0|9.98999999999999|\n",
            "|    19|CA-2014-143336|2014-08-27 00:00:00|2014-09-01 00:00:00|  Second Class|   ZD-21925|Zuschuss Donatelli|   Consumer|United States|  San Francisco|    California|      94109|   West|OFF-AR-10003056|Office Supplies|         Art|          Newell 341|    8.56|       2|       0|          2.4824|\n",
            "|    20|CA-2014-143336|2014-08-27 00:00:00|2014-09-01 00:00:00|  Second Class|   ZD-21925|Zuschuss Donatelli|   Consumer|United States|  San Francisco|    California|      94109|   West|TEC-PH-10001949|     Technology|      Phones|Cisco SPA 501G IP...|  213.48|       3|     0.2|          16.011|\n",
            "+------+--------------+-------------------+-------------------+--------------+-----------+------------------+-----------+-------------+---------------+--------------+-----------+-------+---------------+---------------+------------+--------------------+--------+--------+--------+----------------+\n",
            "only showing top 20 rows\n",
            "\n"
          ]
        }
      ]
    },
    {
      "cell_type": "code",
      "source": [
        "df_pyspark.na.fill('Missing Value').show()"
      ],
      "metadata": {
        "id": "5BtEC4s0CZ5U",
        "colab": {
          "base_uri": "https://localhost:8080/"
        },
        "outputId": "c2ef498e-edc6-41ff-cd10-7da0e5f788e6"
      },
      "execution_count": null,
      "outputs": [
        {
          "output_type": "stream",
          "name": "stdout",
          "text": [
            "+------+--------------+-------------------+-------------------+--------------+-----------+------------------+-----------+-------------+---------------+--------------+-----------+-------+---------------+---------------+------------+--------------------+--------+--------+--------+----------------+\n",
            "|Row ID|      Order ID|         Order Date|          Ship Date|     Ship Mode|Customer ID|     Customer Name|    Segment|      Country|           City|         State|Postal Code| Region|     Product ID|       Category|Sub-Category|        Product Name|   Sales|Quantity|Discount|          Profit|\n",
            "+------+--------------+-------------------+-------------------+--------------+-----------+------------------+-----------+-------------+---------------+--------------+-----------+-------+---------------+---------------+------------+--------------------+--------+--------+--------+----------------+\n",
            "|     1|CA-2016-152156|2016-11-08 00:00:00|2016-11-11 00:00:00|  Second Class|   CG-12520|       Claire Gute|   Consumer|United States|      Henderson|      Kentucky|      42420|  South|FUR-BO-10001798|      Furniture|   Bookcases|Bush Somerset Col...|  261.96|       2|       0|         41.9136|\n",
            "|     2|CA-2016-152156|2016-11-08 00:00:00|2016-11-11 00:00:00|  Second Class|   CG-12520|       Claire Gute|   Consumer|United States|      Henderson|      Kentucky|      42420|  South|FUR-CH-10000454|      Furniture|      Chairs|Hon Deluxe Fabric...|  731.94|       3|       0|         219.582|\n",
            "|     3|CA-2016-138688|2016-06-12 00:00:00|2016-06-16 00:00:00|  Second Class|   DV-13045|   Darrin Van Huff|  Corporate|United States|    Los Angeles|    California|      90036|   West|OFF-LA-10000240|Office Supplies|      Labels|Self-Adhesive Add...|   14.62|       2|       0|          6.8714|\n",
            "|     4|US-2015-108966|2015-10-11 00:00:00|2015-10-18 00:00:00|Standard Class|   SO-20335|    Sean O'Donnell|   Consumer|United States|Fort Lauderdale|       Florida|      33311|  South|FUR-TA-10000577|      Furniture|      Tables|Bretford CR4500 S...|957.5775|       5|    0.45|        -383.031|\n",
            "|     5|US-2015-108966|2015-10-11 00:00:00|2015-10-18 00:00:00|Standard Class|   SO-20335|    Sean O'Donnell|   Consumer|United States|Fort Lauderdale|       Florida|      33311|  South|OFF-ST-10000760|Office Supplies|     Storage|Eldon Fold 'N Rol...|  22.368|       2|     0.2|          2.5164|\n",
            "|     6|CA-2014-115812|2014-06-09 00:00:00|2014-06-14 00:00:00|Standard Class|   BH-11710|   Brosina Hoffman|   Consumer|United States|    Los Angeles|    California|      90032|   West|FUR-FU-10001487|      Furniture| Furnishings|Eldon Expressions...|   48.86|       7|       0|         14.1694|\n",
            "|     7|CA-2014-115812|2014-06-09 00:00:00|2014-06-14 00:00:00|Standard Class|   BH-11710|   Brosina Hoffman|   Consumer|United States|    Los Angeles|    California|      90032|   West|OFF-AR-10002833|Office Supplies|         Art|          Newell 322|    7.28|       4|       0|          1.9656|\n",
            "|     8|CA-2014-115812|2014-06-09 00:00:00|2014-06-14 00:00:00|Standard Class|   BH-11710|   Brosina Hoffman|   Consumer|United States|    Los Angeles|    California|      90032|   West|TEC-PH-10002275|     Technology|      Phones|Mitel 5320 IP Pho...| 907.152|       6|     0.2|         90.7152|\n",
            "|     9|CA-2014-115812|2014-06-09 00:00:00|2014-06-14 00:00:00|Standard Class|   BH-11710|   Brosina Hoffman|   Consumer|United States|    Los Angeles|    California|      90032|   West|OFF-BI-10003910|Office Supplies|     Binders|DXL Angle-View Bi...|  18.504|       3|     0.2|          5.7825|\n",
            "|    10|CA-2014-115812|2014-06-09 00:00:00|2014-06-14 00:00:00|Standard Class|   BH-11710|   Brosina Hoffman|   Consumer|United States|    Los Angeles|    California|      90032|   West|OFF-AP-10002892|Office Supplies|  Appliances|Belkin F5C206VTEL...|   114.9|       5|       0|           34.47|\n",
            "|    11|CA-2014-115812|2014-06-09 00:00:00|2014-06-14 00:00:00|Standard Class|   BH-11710|   Brosina Hoffman|   Consumer|United States|    Los Angeles|    California|      90032|   West|FUR-TA-10001539|      Furniture|      Tables|Chromcraft Rectan...|1706.184|       9|     0.2|85.3091999999998|\n",
            "|    12|CA-2014-115812|2014-06-09 00:00:00|2014-06-14 00:00:00|Standard Class|   BH-11710|   Brosina Hoffman|   Consumer|United States|    Los Angeles|    California|      90032|   West|TEC-PH-10002033|     Technology|      Phones|Konftel 250 Confe...| 911.424|       4|     0.2|         68.3568|\n",
            "|    13|CA-2017-114412|2017-04-15 00:00:00|2017-04-20 00:00:00|Standard Class|   AA-10480|      Andrew Allen|   Consumer|United States|        Concord|North Carolina|      28027|  South|OFF-PA-10002365|Office Supplies|       Paper|          Xerox 1967|  15.552|       3|     0.2|          5.4432|\n",
            "|    14|CA-2016-161389|2016-12-05 00:00:00|2016-12-10 00:00:00|Standard Class|   IM-15070|      Irene Maddox|   Consumer|United States|        Seattle|    Washington|      98103|   West|OFF-BI-10003656|Office Supplies|     Binders|Fellowes PB200 Pl...| 407.976|       3|     0.2|        132.5922|\n",
            "|    15|US-2015-118983|2015-11-22 00:00:00|2015-11-26 00:00:00|Standard Class|   HP-14815|     Harold Pawlan|Home Office|United States|     Fort Worth|         Texas|      76106|Central|OFF-AP-10002311|Office Supplies|  Appliances|Holmes Replacemen...|   68.81|       5|     0.8|        -123.858|\n",
            "|    16|US-2015-118983|2015-11-22 00:00:00|2015-11-26 00:00:00|Standard Class|   HP-14815|     Harold Pawlan|Home Office|United States|     Fort Worth|         Texas|      76106|Central|OFF-BI-10000756|Office Supplies|     Binders|Storex DuraTech R...|   2.544|       3|     0.8|          -3.816|\n",
            "|    17|CA-2014-105893|2014-11-11 00:00:00|2014-11-18 00:00:00|Standard Class|   PK-19075|         Pete Kriz|   Consumer|United States|        Madison|     Wisconsin|      53711|Central|OFF-ST-10004186|Office Supplies|     Storage|\"Stur-D-Stor Shel...|  665.88|       6|       0|         13.3176|\n",
            "|    18|CA-2014-167164|2014-05-13 00:00:00|2014-05-15 00:00:00|  Second Class|   AG-10270|   Alejandro Grove|   Consumer|United States|    West Jordan|          Utah|      84084|   West|OFF-ST-10000107|Office Supplies|     Storage|Fellowes Super St...|    55.5|       2|       0|9.98999999999999|\n",
            "|    19|CA-2014-143336|2014-08-27 00:00:00|2014-09-01 00:00:00|  Second Class|   ZD-21925|Zuschuss Donatelli|   Consumer|United States|  San Francisco|    California|      94109|   West|OFF-AR-10003056|Office Supplies|         Art|          Newell 341|    8.56|       2|       0|          2.4824|\n",
            "|    20|CA-2014-143336|2014-08-27 00:00:00|2014-09-01 00:00:00|  Second Class|   ZD-21925|Zuschuss Donatelli|   Consumer|United States|  San Francisco|    California|      94109|   West|TEC-PH-10001949|     Technology|      Phones|Cisco SPA 501G IP...|  213.48|       3|     0.2|          16.011|\n",
            "+------+--------------+-------------------+-------------------+--------------+-----------+------------------+-----------+-------------+---------------+--------------+-----------+-------+---------------+---------------+------------+--------------------+--------+--------+--------+----------------+\n",
            "only showing top 20 rows\n",
            "\n"
          ]
        }
      ]
    },
    {
      "cell_type": "code",
      "source": [
        "df_pyspark.na.fill('Missing Value',['Profit','City']).show()"
      ],
      "metadata": {
        "colab": {
          "base_uri": "https://localhost:8080/"
        },
        "id": "wVPHvgCKE_w3",
        "outputId": "0dcd64b5-1012-461a-dfd5-f47fe1911dd4"
      },
      "execution_count": null,
      "outputs": [
        {
          "output_type": "stream",
          "name": "stdout",
          "text": [
            "+------+--------------+-------------------+-------------------+--------------+-----------+------------------+-----------+-------------+---------------+--------------+-----------+-------+---------------+---------------+------------+--------------------+--------+--------+--------+----------------+\n",
            "|Row ID|      Order ID|         Order Date|          Ship Date|     Ship Mode|Customer ID|     Customer Name|    Segment|      Country|           City|         State|Postal Code| Region|     Product ID|       Category|Sub-Category|        Product Name|   Sales|Quantity|Discount|          Profit|\n",
            "+------+--------------+-------------------+-------------------+--------------+-----------+------------------+-----------+-------------+---------------+--------------+-----------+-------+---------------+---------------+------------+--------------------+--------+--------+--------+----------------+\n",
            "|     1|CA-2016-152156|2016-11-08 00:00:00|2016-11-11 00:00:00|  Second Class|   CG-12520|       Claire Gute|   Consumer|United States|      Henderson|      Kentucky|      42420|  South|FUR-BO-10001798|      Furniture|   Bookcases|Bush Somerset Col...|  261.96|       2|       0|         41.9136|\n",
            "|     2|CA-2016-152156|2016-11-08 00:00:00|2016-11-11 00:00:00|  Second Class|   CG-12520|       Claire Gute|   Consumer|United States|      Henderson|      Kentucky|      42420|  South|FUR-CH-10000454|      Furniture|      Chairs|Hon Deluxe Fabric...|  731.94|       3|       0|         219.582|\n",
            "|     3|CA-2016-138688|2016-06-12 00:00:00|2016-06-16 00:00:00|  Second Class|   DV-13045|   Darrin Van Huff|  Corporate|United States|    Los Angeles|    California|      90036|   West|OFF-LA-10000240|Office Supplies|      Labels|Self-Adhesive Add...|   14.62|       2|       0|          6.8714|\n",
            "|     4|US-2015-108966|2015-10-11 00:00:00|2015-10-18 00:00:00|Standard Class|   SO-20335|    Sean O'Donnell|   Consumer|United States|Fort Lauderdale|       Florida|      33311|  South|FUR-TA-10000577|      Furniture|      Tables|Bretford CR4500 S...|957.5775|       5|    0.45|        -383.031|\n",
            "|     5|US-2015-108966|2015-10-11 00:00:00|2015-10-18 00:00:00|Standard Class|   SO-20335|    Sean O'Donnell|   Consumer|United States|Fort Lauderdale|       Florida|      33311|  South|OFF-ST-10000760|Office Supplies|     Storage|Eldon Fold 'N Rol...|  22.368|       2|     0.2|          2.5164|\n",
            "|     6|CA-2014-115812|2014-06-09 00:00:00|2014-06-14 00:00:00|Standard Class|   BH-11710|   Brosina Hoffman|   Consumer|United States|    Los Angeles|    California|      90032|   West|FUR-FU-10001487|      Furniture| Furnishings|Eldon Expressions...|   48.86|       7|       0|         14.1694|\n",
            "|     7|CA-2014-115812|2014-06-09 00:00:00|2014-06-14 00:00:00|Standard Class|   BH-11710|   Brosina Hoffman|   Consumer|United States|    Los Angeles|    California|      90032|   West|OFF-AR-10002833|Office Supplies|         Art|          Newell 322|    7.28|       4|       0|          1.9656|\n",
            "|     8|CA-2014-115812|2014-06-09 00:00:00|2014-06-14 00:00:00|Standard Class|   BH-11710|   Brosina Hoffman|   Consumer|United States|    Los Angeles|    California|      90032|   West|TEC-PH-10002275|     Technology|      Phones|Mitel 5320 IP Pho...| 907.152|       6|     0.2|         90.7152|\n",
            "|     9|CA-2014-115812|2014-06-09 00:00:00|2014-06-14 00:00:00|Standard Class|   BH-11710|   Brosina Hoffman|   Consumer|United States|    Los Angeles|    California|      90032|   West|OFF-BI-10003910|Office Supplies|     Binders|DXL Angle-View Bi...|  18.504|       3|     0.2|          5.7825|\n",
            "|    10|CA-2014-115812|2014-06-09 00:00:00|2014-06-14 00:00:00|Standard Class|   BH-11710|   Brosina Hoffman|   Consumer|United States|    Los Angeles|    California|      90032|   West|OFF-AP-10002892|Office Supplies|  Appliances|Belkin F5C206VTEL...|   114.9|       5|       0|           34.47|\n",
            "|    11|CA-2014-115812|2014-06-09 00:00:00|2014-06-14 00:00:00|Standard Class|   BH-11710|   Brosina Hoffman|   Consumer|United States|    Los Angeles|    California|      90032|   West|FUR-TA-10001539|      Furniture|      Tables|Chromcraft Rectan...|1706.184|       9|     0.2|85.3091999999998|\n",
            "|    12|CA-2014-115812|2014-06-09 00:00:00|2014-06-14 00:00:00|Standard Class|   BH-11710|   Brosina Hoffman|   Consumer|United States|    Los Angeles|    California|      90032|   West|TEC-PH-10002033|     Technology|      Phones|Konftel 250 Confe...| 911.424|       4|     0.2|         68.3568|\n",
            "|    13|CA-2017-114412|2017-04-15 00:00:00|2017-04-20 00:00:00|Standard Class|   AA-10480|      Andrew Allen|   Consumer|United States|        Concord|North Carolina|      28027|  South|OFF-PA-10002365|Office Supplies|       Paper|          Xerox 1967|  15.552|       3|     0.2|          5.4432|\n",
            "|    14|CA-2016-161389|2016-12-05 00:00:00|2016-12-10 00:00:00|Standard Class|   IM-15070|      Irene Maddox|   Consumer|United States|        Seattle|    Washington|      98103|   West|OFF-BI-10003656|Office Supplies|     Binders|Fellowes PB200 Pl...| 407.976|       3|     0.2|        132.5922|\n",
            "|    15|US-2015-118983|2015-11-22 00:00:00|2015-11-26 00:00:00|Standard Class|   HP-14815|     Harold Pawlan|Home Office|United States|     Fort Worth|         Texas|      76106|Central|OFF-AP-10002311|Office Supplies|  Appliances|Holmes Replacemen...|   68.81|       5|     0.8|        -123.858|\n",
            "|    16|US-2015-118983|2015-11-22 00:00:00|2015-11-26 00:00:00|Standard Class|   HP-14815|     Harold Pawlan|Home Office|United States|     Fort Worth|         Texas|      76106|Central|OFF-BI-10000756|Office Supplies|     Binders|Storex DuraTech R...|   2.544|       3|     0.8|          -3.816|\n",
            "|    17|CA-2014-105893|2014-11-11 00:00:00|2014-11-18 00:00:00|Standard Class|   PK-19075|         Pete Kriz|   Consumer|United States|        Madison|     Wisconsin|      53711|Central|OFF-ST-10004186|Office Supplies|     Storage|\"Stur-D-Stor Shel...|  665.88|       6|       0|         13.3176|\n",
            "|    18|CA-2014-167164|2014-05-13 00:00:00|2014-05-15 00:00:00|  Second Class|   AG-10270|   Alejandro Grove|   Consumer|United States|    West Jordan|          Utah|      84084|   West|OFF-ST-10000107|Office Supplies|     Storage|Fellowes Super St...|    55.5|       2|       0|9.98999999999999|\n",
            "|    19|CA-2014-143336|2014-08-27 00:00:00|2014-09-01 00:00:00|  Second Class|   ZD-21925|Zuschuss Donatelli|   Consumer|United States|  San Francisco|    California|      94109|   West|OFF-AR-10003056|Office Supplies|         Art|          Newell 341|    8.56|       2|       0|          2.4824|\n",
            "|    20|CA-2014-143336|2014-08-27 00:00:00|2014-09-01 00:00:00|  Second Class|   ZD-21925|Zuschuss Donatelli|   Consumer|United States|  San Francisco|    California|      94109|   West|TEC-PH-10001949|     Technology|      Phones|Cisco SPA 501G IP...|  213.48|       3|     0.2|          16.011|\n",
            "+------+--------------+-------------------+-------------------+--------------+-----------+------------------+-----------+-------------+---------------+--------------+-----------+-------+---------------+---------------+------------+--------------------+--------+--------+--------+----------------+\n",
            "only showing top 20 rows\n",
            "\n"
          ]
        }
      ]
    },
    {
      "cell_type": "code",
      "source": [
        "from pyspark.ml.feature import Imputer\n",
        "\n",
        "imputer = Imputer(\n",
        "    inputCols=['Row ID', 'Profit'],\n",
        "    outputCols=[\"{}_imputed.format\".format(c) for c in ['Row ID', 'Profit']]\n",
        ").setStrategy(\"median\")"
      ],
      "metadata": {
        "id": "KLWjPybHFY-J"
      },
      "execution_count": null,
      "outputs": []
    },
    {
      "cell_type": "code",
      "source": [
        "imputer.fit(df_pyspark).transform(df_pyspark).show()"
      ],
      "metadata": {
        "colab": {
          "base_uri": "https://localhost:8080/"
        },
        "id": "pFnAbP_lG3O2",
        "outputId": "86bbb482-ca50-48ad-a956-0b4166d506fc"
      },
      "execution_count": null,
      "outputs": [
        {
          "output_type": "stream",
          "name": "stdout",
          "text": [
            "+------+--------------+-------------------+-------------------+--------------+-----------+------------------+-----------+-------------+---------------+--------------+-----------+-------+---------------+---------------+------------+--------------------+--------+--------+--------+----------------+---------------------+---------------------+\n",
            "|Row ID|      Order ID|         Order Date|          Ship Date|     Ship Mode|Customer ID|     Customer Name|    Segment|      Country|           City|         State|Postal Code| Region|     Product ID|       Category|Sub-Category|        Product Name|   Sales|Quantity|Discount|          Profit|Row ID_imputed.format|Profit_imputed.format|\n",
            "+------+--------------+-------------------+-------------------+--------------+-----------+------------------+-----------+-------------+---------------+--------------+-----------+-------+---------------+---------------+------------+--------------------+--------+--------+--------+----------------+---------------------+---------------------+\n",
            "|     1|CA-2016-152156|2016-11-08 00:00:00|2016-11-11 00:00:00|  Second Class|   CG-12520|       Claire Gute|   Consumer|United States|      Henderson|      Kentucky|      42420|  South|FUR-BO-10001798|      Furniture|   Bookcases|Bush Somerset Col...|  261.96|       2|       0|         41.9136|                    1|              41.9136|\n",
            "|     2|CA-2016-152156|2016-11-08 00:00:00|2016-11-11 00:00:00|  Second Class|   CG-12520|       Claire Gute|   Consumer|United States|      Henderson|      Kentucky|      42420|  South|FUR-CH-10000454|      Furniture|      Chairs|Hon Deluxe Fabric...|  731.94|       3|       0|         219.582|                    2|              219.582|\n",
            "|     3|CA-2016-138688|2016-06-12 00:00:00|2016-06-16 00:00:00|  Second Class|   DV-13045|   Darrin Van Huff|  Corporate|United States|    Los Angeles|    California|      90036|   West|OFF-LA-10000240|Office Supplies|      Labels|Self-Adhesive Add...|   14.62|       2|       0|          6.8714|                    3|               6.8714|\n",
            "|     4|US-2015-108966|2015-10-11 00:00:00|2015-10-18 00:00:00|Standard Class|   SO-20335|    Sean O'Donnell|   Consumer|United States|Fort Lauderdale|       Florida|      33311|  South|FUR-TA-10000577|      Furniture|      Tables|Bretford CR4500 S...|957.5775|       5|    0.45|        -383.031|                    4|             -383.031|\n",
            "|     5|US-2015-108966|2015-10-11 00:00:00|2015-10-18 00:00:00|Standard Class|   SO-20335|    Sean O'Donnell|   Consumer|United States|Fort Lauderdale|       Florida|      33311|  South|OFF-ST-10000760|Office Supplies|     Storage|Eldon Fold 'N Rol...|  22.368|       2|     0.2|          2.5164|                    5|               2.5164|\n",
            "|     6|CA-2014-115812|2014-06-09 00:00:00|2014-06-14 00:00:00|Standard Class|   BH-11710|   Brosina Hoffman|   Consumer|United States|    Los Angeles|    California|      90032|   West|FUR-FU-10001487|      Furniture| Furnishings|Eldon Expressions...|   48.86|       7|       0|         14.1694|                    6|              14.1694|\n",
            "|     7|CA-2014-115812|2014-06-09 00:00:00|2014-06-14 00:00:00|Standard Class|   BH-11710|   Brosina Hoffman|   Consumer|United States|    Los Angeles|    California|      90032|   West|OFF-AR-10002833|Office Supplies|         Art|          Newell 322|    7.28|       4|       0|          1.9656|                    7|               1.9656|\n",
            "|     8|CA-2014-115812|2014-06-09 00:00:00|2014-06-14 00:00:00|Standard Class|   BH-11710|   Brosina Hoffman|   Consumer|United States|    Los Angeles|    California|      90032|   West|TEC-PH-10002275|     Technology|      Phones|Mitel 5320 IP Pho...| 907.152|       6|     0.2|         90.7152|                    8|              90.7152|\n",
            "|     9|CA-2014-115812|2014-06-09 00:00:00|2014-06-14 00:00:00|Standard Class|   BH-11710|   Brosina Hoffman|   Consumer|United States|    Los Angeles|    California|      90032|   West|OFF-BI-10003910|Office Supplies|     Binders|DXL Angle-View Bi...|  18.504|       3|     0.2|          5.7825|                    9|               5.7825|\n",
            "|    10|CA-2014-115812|2014-06-09 00:00:00|2014-06-14 00:00:00|Standard Class|   BH-11710|   Brosina Hoffman|   Consumer|United States|    Los Angeles|    California|      90032|   West|OFF-AP-10002892|Office Supplies|  Appliances|Belkin F5C206VTEL...|   114.9|       5|       0|           34.47|                   10|                34.47|\n",
            "|    11|CA-2014-115812|2014-06-09 00:00:00|2014-06-14 00:00:00|Standard Class|   BH-11710|   Brosina Hoffman|   Consumer|United States|    Los Angeles|    California|      90032|   West|FUR-TA-10001539|      Furniture|      Tables|Chromcraft Rectan...|1706.184|       9|     0.2|85.3091999999998|                   11|     85.3091999999998|\n",
            "|    12|CA-2014-115812|2014-06-09 00:00:00|2014-06-14 00:00:00|Standard Class|   BH-11710|   Brosina Hoffman|   Consumer|United States|    Los Angeles|    California|      90032|   West|TEC-PH-10002033|     Technology|      Phones|Konftel 250 Confe...| 911.424|       4|     0.2|         68.3568|                   12|              68.3568|\n",
            "|    13|CA-2017-114412|2017-04-15 00:00:00|2017-04-20 00:00:00|Standard Class|   AA-10480|      Andrew Allen|   Consumer|United States|        Concord|North Carolina|      28027|  South|OFF-PA-10002365|Office Supplies|       Paper|          Xerox 1967|  15.552|       3|     0.2|          5.4432|                   13|               5.4432|\n",
            "|    14|CA-2016-161389|2016-12-05 00:00:00|2016-12-10 00:00:00|Standard Class|   IM-15070|      Irene Maddox|   Consumer|United States|        Seattle|    Washington|      98103|   West|OFF-BI-10003656|Office Supplies|     Binders|Fellowes PB200 Pl...| 407.976|       3|     0.2|        132.5922|                   14|             132.5922|\n",
            "|    15|US-2015-118983|2015-11-22 00:00:00|2015-11-26 00:00:00|Standard Class|   HP-14815|     Harold Pawlan|Home Office|United States|     Fort Worth|         Texas|      76106|Central|OFF-AP-10002311|Office Supplies|  Appliances|Holmes Replacemen...|   68.81|       5|     0.8|        -123.858|                   15|             -123.858|\n",
            "|    16|US-2015-118983|2015-11-22 00:00:00|2015-11-26 00:00:00|Standard Class|   HP-14815|     Harold Pawlan|Home Office|United States|     Fort Worth|         Texas|      76106|Central|OFF-BI-10000756|Office Supplies|     Binders|Storex DuraTech R...|   2.544|       3|     0.8|          -3.816|                   16|               -3.816|\n",
            "|    17|CA-2014-105893|2014-11-11 00:00:00|2014-11-18 00:00:00|Standard Class|   PK-19075|         Pete Kriz|   Consumer|United States|        Madison|     Wisconsin|      53711|Central|OFF-ST-10004186|Office Supplies|     Storage|\"Stur-D-Stor Shel...|  665.88|       6|       0|         13.3176|                   17|              13.3176|\n",
            "|    18|CA-2014-167164|2014-05-13 00:00:00|2014-05-15 00:00:00|  Second Class|   AG-10270|   Alejandro Grove|   Consumer|United States|    West Jordan|          Utah|      84084|   West|OFF-ST-10000107|Office Supplies|     Storage|Fellowes Super St...|    55.5|       2|       0|9.98999999999999|                   18|     9.98999999999999|\n",
            "|    19|CA-2014-143336|2014-08-27 00:00:00|2014-09-01 00:00:00|  Second Class|   ZD-21925|Zuschuss Donatelli|   Consumer|United States|  San Francisco|    California|      94109|   West|OFF-AR-10003056|Office Supplies|         Art|          Newell 341|    8.56|       2|       0|          2.4824|                   19|               2.4824|\n",
            "|    20|CA-2014-143336|2014-08-27 00:00:00|2014-09-01 00:00:00|  Second Class|   ZD-21925|Zuschuss Donatelli|   Consumer|United States|  San Francisco|    California|      94109|   West|TEC-PH-10001949|     Technology|      Phones|Cisco SPA 501G IP...|  213.48|       3|     0.2|          16.011|                   20|               16.011|\n",
            "+------+--------------+-------------------+-------------------+--------------+-----------+------------------+-----------+-------------+---------------+--------------+-----------+-------+---------------+---------------+------------+--------------------+--------+--------+--------+----------------+---------------------+---------------------+\n",
            "only showing top 20 rows\n",
            "\n"
          ]
        }
      ]
    },
    {
      "cell_type": "code",
      "source": [
        "df_pyspark.filter(\"Profit<=2000\").select(['Row ID','Profit']).show()"
      ],
      "metadata": {
        "colab": {
          "base_uri": "https://localhost:8080/"
        },
        "id": "5hOFjbWfHDJI",
        "outputId": "90f54302-4fb6-42d2-86a3-1a5c40b05726"
      },
      "execution_count": null,
      "outputs": [
        {
          "output_type": "stream",
          "name": "stdout",
          "text": [
            "+------+----------------+\n",
            "|Row ID|          Profit|\n",
            "+------+----------------+\n",
            "|     1|         41.9136|\n",
            "|     2|         219.582|\n",
            "|     3|          6.8714|\n",
            "|     4|        -383.031|\n",
            "|     5|          2.5164|\n",
            "|     6|         14.1694|\n",
            "|     7|          1.9656|\n",
            "|     8|         90.7152|\n",
            "|     9|          5.7825|\n",
            "|    10|           34.47|\n",
            "|    11|85.3091999999998|\n",
            "|    12|         68.3568|\n",
            "|    13|          5.4432|\n",
            "|    14|        132.5922|\n",
            "|    15|        -123.858|\n",
            "|    16|          -3.816|\n",
            "|    17|         13.3176|\n",
            "|    18|9.98999999999999|\n",
            "|    19|          2.4824|\n",
            "|    20|          16.011|\n",
            "+------+----------------+\n",
            "only showing top 20 rows\n",
            "\n"
          ]
        }
      ]
    },
    {
      "cell_type": "code",
      "source": [
        "df_pyspark.filter(df_pyspark['Profit']<=2000).show()"
      ],
      "metadata": {
        "id": "veYzwGzjQKkZ",
        "colab": {
          "base_uri": "https://localhost:8080/"
        },
        "outputId": "0175b3b4-b305-4ebc-b73d-41df7b029e95"
      },
      "execution_count": null,
      "outputs": [
        {
          "output_type": "stream",
          "name": "stdout",
          "text": [
            "+------+--------------+-------------------+-------------------+--------------+-----------+------------------+-----------+-------------+---------------+--------------+-----------+-------+---------------+---------------+------------+--------------------+--------+--------+--------+----------------+\n",
            "|Row ID|      Order ID|         Order Date|          Ship Date|     Ship Mode|Customer ID|     Customer Name|    Segment|      Country|           City|         State|Postal Code| Region|     Product ID|       Category|Sub-Category|        Product Name|   Sales|Quantity|Discount|          Profit|\n",
            "+------+--------------+-------------------+-------------------+--------------+-----------+------------------+-----------+-------------+---------------+--------------+-----------+-------+---------------+---------------+------------+--------------------+--------+--------+--------+----------------+\n",
            "|     1|CA-2016-152156|2016-11-08 00:00:00|2016-11-11 00:00:00|  Second Class|   CG-12520|       Claire Gute|   Consumer|United States|      Henderson|      Kentucky|      42420|  South|FUR-BO-10001798|      Furniture|   Bookcases|Bush Somerset Col...|  261.96|       2|       0|         41.9136|\n",
            "|     2|CA-2016-152156|2016-11-08 00:00:00|2016-11-11 00:00:00|  Second Class|   CG-12520|       Claire Gute|   Consumer|United States|      Henderson|      Kentucky|      42420|  South|FUR-CH-10000454|      Furniture|      Chairs|Hon Deluxe Fabric...|  731.94|       3|       0|         219.582|\n",
            "|     3|CA-2016-138688|2016-06-12 00:00:00|2016-06-16 00:00:00|  Second Class|   DV-13045|   Darrin Van Huff|  Corporate|United States|    Los Angeles|    California|      90036|   West|OFF-LA-10000240|Office Supplies|      Labels|Self-Adhesive Add...|   14.62|       2|       0|          6.8714|\n",
            "|     4|US-2015-108966|2015-10-11 00:00:00|2015-10-18 00:00:00|Standard Class|   SO-20335|    Sean O'Donnell|   Consumer|United States|Fort Lauderdale|       Florida|      33311|  South|FUR-TA-10000577|      Furniture|      Tables|Bretford CR4500 S...|957.5775|       5|    0.45|        -383.031|\n",
            "|     5|US-2015-108966|2015-10-11 00:00:00|2015-10-18 00:00:00|Standard Class|   SO-20335|    Sean O'Donnell|   Consumer|United States|Fort Lauderdale|       Florida|      33311|  South|OFF-ST-10000760|Office Supplies|     Storage|Eldon Fold 'N Rol...|  22.368|       2|     0.2|          2.5164|\n",
            "|     6|CA-2014-115812|2014-06-09 00:00:00|2014-06-14 00:00:00|Standard Class|   BH-11710|   Brosina Hoffman|   Consumer|United States|    Los Angeles|    California|      90032|   West|FUR-FU-10001487|      Furniture| Furnishings|Eldon Expressions...|   48.86|       7|       0|         14.1694|\n",
            "|     7|CA-2014-115812|2014-06-09 00:00:00|2014-06-14 00:00:00|Standard Class|   BH-11710|   Brosina Hoffman|   Consumer|United States|    Los Angeles|    California|      90032|   West|OFF-AR-10002833|Office Supplies|         Art|          Newell 322|    7.28|       4|       0|          1.9656|\n",
            "|     8|CA-2014-115812|2014-06-09 00:00:00|2014-06-14 00:00:00|Standard Class|   BH-11710|   Brosina Hoffman|   Consumer|United States|    Los Angeles|    California|      90032|   West|TEC-PH-10002275|     Technology|      Phones|Mitel 5320 IP Pho...| 907.152|       6|     0.2|         90.7152|\n",
            "|     9|CA-2014-115812|2014-06-09 00:00:00|2014-06-14 00:00:00|Standard Class|   BH-11710|   Brosina Hoffman|   Consumer|United States|    Los Angeles|    California|      90032|   West|OFF-BI-10003910|Office Supplies|     Binders|DXL Angle-View Bi...|  18.504|       3|     0.2|          5.7825|\n",
            "|    10|CA-2014-115812|2014-06-09 00:00:00|2014-06-14 00:00:00|Standard Class|   BH-11710|   Brosina Hoffman|   Consumer|United States|    Los Angeles|    California|      90032|   West|OFF-AP-10002892|Office Supplies|  Appliances|Belkin F5C206VTEL...|   114.9|       5|       0|           34.47|\n",
            "|    11|CA-2014-115812|2014-06-09 00:00:00|2014-06-14 00:00:00|Standard Class|   BH-11710|   Brosina Hoffman|   Consumer|United States|    Los Angeles|    California|      90032|   West|FUR-TA-10001539|      Furniture|      Tables|Chromcraft Rectan...|1706.184|       9|     0.2|85.3091999999998|\n",
            "|    12|CA-2014-115812|2014-06-09 00:00:00|2014-06-14 00:00:00|Standard Class|   BH-11710|   Brosina Hoffman|   Consumer|United States|    Los Angeles|    California|      90032|   West|TEC-PH-10002033|     Technology|      Phones|Konftel 250 Confe...| 911.424|       4|     0.2|         68.3568|\n",
            "|    13|CA-2017-114412|2017-04-15 00:00:00|2017-04-20 00:00:00|Standard Class|   AA-10480|      Andrew Allen|   Consumer|United States|        Concord|North Carolina|      28027|  South|OFF-PA-10002365|Office Supplies|       Paper|          Xerox 1967|  15.552|       3|     0.2|          5.4432|\n",
            "|    14|CA-2016-161389|2016-12-05 00:00:00|2016-12-10 00:00:00|Standard Class|   IM-15070|      Irene Maddox|   Consumer|United States|        Seattle|    Washington|      98103|   West|OFF-BI-10003656|Office Supplies|     Binders|Fellowes PB200 Pl...| 407.976|       3|     0.2|        132.5922|\n",
            "|    15|US-2015-118983|2015-11-22 00:00:00|2015-11-26 00:00:00|Standard Class|   HP-14815|     Harold Pawlan|Home Office|United States|     Fort Worth|         Texas|      76106|Central|OFF-AP-10002311|Office Supplies|  Appliances|Holmes Replacemen...|   68.81|       5|     0.8|        -123.858|\n",
            "|    16|US-2015-118983|2015-11-22 00:00:00|2015-11-26 00:00:00|Standard Class|   HP-14815|     Harold Pawlan|Home Office|United States|     Fort Worth|         Texas|      76106|Central|OFF-BI-10000756|Office Supplies|     Binders|Storex DuraTech R...|   2.544|       3|     0.8|          -3.816|\n",
            "|    17|CA-2014-105893|2014-11-11 00:00:00|2014-11-18 00:00:00|Standard Class|   PK-19075|         Pete Kriz|   Consumer|United States|        Madison|     Wisconsin|      53711|Central|OFF-ST-10004186|Office Supplies|     Storage|\"Stur-D-Stor Shel...|  665.88|       6|       0|         13.3176|\n",
            "|    18|CA-2014-167164|2014-05-13 00:00:00|2014-05-15 00:00:00|  Second Class|   AG-10270|   Alejandro Grove|   Consumer|United States|    West Jordan|          Utah|      84084|   West|OFF-ST-10000107|Office Supplies|     Storage|Fellowes Super St...|    55.5|       2|       0|9.98999999999999|\n",
            "|    19|CA-2014-143336|2014-08-27 00:00:00|2014-09-01 00:00:00|  Second Class|   ZD-21925|Zuschuss Donatelli|   Consumer|United States|  San Francisco|    California|      94109|   West|OFF-AR-10003056|Office Supplies|         Art|          Newell 341|    8.56|       2|       0|          2.4824|\n",
            "|    20|CA-2014-143336|2014-08-27 00:00:00|2014-09-01 00:00:00|  Second Class|   ZD-21925|Zuschuss Donatelli|   Consumer|United States|  San Francisco|    California|      94109|   West|TEC-PH-10001949|     Technology|      Phones|Cisco SPA 501G IP...|  213.48|       3|     0.2|          16.011|\n",
            "+------+--------------+-------------------+-------------------+--------------+-----------+------------------+-----------+-------------+---------------+--------------+-----------+-------+---------------+---------------+------------+--------------------+--------+--------+--------+----------------+\n",
            "only showing top 20 rows\n",
            "\n"
          ]
        }
      ]
    },
    {
      "cell_type": "code",
      "source": [
        "df_pyspark.filter((df_pyspark['Profit']>=2000) |\n",
        "                  (df_pyspark['Profit']<=150000)).show()"
      ],
      "metadata": {
        "colab": {
          "base_uri": "https://localhost:8080/"
        },
        "id": "b6v0y2YcRmPC",
        "outputId": "3f4ad8bd-fc44-48cd-b6bd-e4dbe97ac22e"
      },
      "execution_count": null,
      "outputs": [
        {
          "output_type": "stream",
          "name": "stdout",
          "text": [
            "+------+--------------+-------------------+-------------------+--------------+-----------+------------------+-----------+-------------+---------------+--------------+-----------+-------+---------------+---------------+------------+--------------------+--------+--------+--------+----------------+\n",
            "|Row ID|      Order ID|         Order Date|          Ship Date|     Ship Mode|Customer ID|     Customer Name|    Segment|      Country|           City|         State|Postal Code| Region|     Product ID|       Category|Sub-Category|        Product Name|   Sales|Quantity|Discount|          Profit|\n",
            "+------+--------------+-------------------+-------------------+--------------+-----------+------------------+-----------+-------------+---------------+--------------+-----------+-------+---------------+---------------+------------+--------------------+--------+--------+--------+----------------+\n",
            "|     1|CA-2016-152156|2016-11-08 00:00:00|2016-11-11 00:00:00|  Second Class|   CG-12520|       Claire Gute|   Consumer|United States|      Henderson|      Kentucky|      42420|  South|FUR-BO-10001798|      Furniture|   Bookcases|Bush Somerset Col...|  261.96|       2|       0|         41.9136|\n",
            "|     2|CA-2016-152156|2016-11-08 00:00:00|2016-11-11 00:00:00|  Second Class|   CG-12520|       Claire Gute|   Consumer|United States|      Henderson|      Kentucky|      42420|  South|FUR-CH-10000454|      Furniture|      Chairs|Hon Deluxe Fabric...|  731.94|       3|       0|         219.582|\n",
            "|     3|CA-2016-138688|2016-06-12 00:00:00|2016-06-16 00:00:00|  Second Class|   DV-13045|   Darrin Van Huff|  Corporate|United States|    Los Angeles|    California|      90036|   West|OFF-LA-10000240|Office Supplies|      Labels|Self-Adhesive Add...|   14.62|       2|       0|          6.8714|\n",
            "|     4|US-2015-108966|2015-10-11 00:00:00|2015-10-18 00:00:00|Standard Class|   SO-20335|    Sean O'Donnell|   Consumer|United States|Fort Lauderdale|       Florida|      33311|  South|FUR-TA-10000577|      Furniture|      Tables|Bretford CR4500 S...|957.5775|       5|    0.45|        -383.031|\n",
            "|     5|US-2015-108966|2015-10-11 00:00:00|2015-10-18 00:00:00|Standard Class|   SO-20335|    Sean O'Donnell|   Consumer|United States|Fort Lauderdale|       Florida|      33311|  South|OFF-ST-10000760|Office Supplies|     Storage|Eldon Fold 'N Rol...|  22.368|       2|     0.2|          2.5164|\n",
            "|     6|CA-2014-115812|2014-06-09 00:00:00|2014-06-14 00:00:00|Standard Class|   BH-11710|   Brosina Hoffman|   Consumer|United States|    Los Angeles|    California|      90032|   West|FUR-FU-10001487|      Furniture| Furnishings|Eldon Expressions...|   48.86|       7|       0|         14.1694|\n",
            "|     7|CA-2014-115812|2014-06-09 00:00:00|2014-06-14 00:00:00|Standard Class|   BH-11710|   Brosina Hoffman|   Consumer|United States|    Los Angeles|    California|      90032|   West|OFF-AR-10002833|Office Supplies|         Art|          Newell 322|    7.28|       4|       0|          1.9656|\n",
            "|     8|CA-2014-115812|2014-06-09 00:00:00|2014-06-14 00:00:00|Standard Class|   BH-11710|   Brosina Hoffman|   Consumer|United States|    Los Angeles|    California|      90032|   West|TEC-PH-10002275|     Technology|      Phones|Mitel 5320 IP Pho...| 907.152|       6|     0.2|         90.7152|\n",
            "|     9|CA-2014-115812|2014-06-09 00:00:00|2014-06-14 00:00:00|Standard Class|   BH-11710|   Brosina Hoffman|   Consumer|United States|    Los Angeles|    California|      90032|   West|OFF-BI-10003910|Office Supplies|     Binders|DXL Angle-View Bi...|  18.504|       3|     0.2|          5.7825|\n",
            "|    10|CA-2014-115812|2014-06-09 00:00:00|2014-06-14 00:00:00|Standard Class|   BH-11710|   Brosina Hoffman|   Consumer|United States|    Los Angeles|    California|      90032|   West|OFF-AP-10002892|Office Supplies|  Appliances|Belkin F5C206VTEL...|   114.9|       5|       0|           34.47|\n",
            "|    11|CA-2014-115812|2014-06-09 00:00:00|2014-06-14 00:00:00|Standard Class|   BH-11710|   Brosina Hoffman|   Consumer|United States|    Los Angeles|    California|      90032|   West|FUR-TA-10001539|      Furniture|      Tables|Chromcraft Rectan...|1706.184|       9|     0.2|85.3091999999998|\n",
            "|    12|CA-2014-115812|2014-06-09 00:00:00|2014-06-14 00:00:00|Standard Class|   BH-11710|   Brosina Hoffman|   Consumer|United States|    Los Angeles|    California|      90032|   West|TEC-PH-10002033|     Technology|      Phones|Konftel 250 Confe...| 911.424|       4|     0.2|         68.3568|\n",
            "|    13|CA-2017-114412|2017-04-15 00:00:00|2017-04-20 00:00:00|Standard Class|   AA-10480|      Andrew Allen|   Consumer|United States|        Concord|North Carolina|      28027|  South|OFF-PA-10002365|Office Supplies|       Paper|          Xerox 1967|  15.552|       3|     0.2|          5.4432|\n",
            "|    14|CA-2016-161389|2016-12-05 00:00:00|2016-12-10 00:00:00|Standard Class|   IM-15070|      Irene Maddox|   Consumer|United States|        Seattle|    Washington|      98103|   West|OFF-BI-10003656|Office Supplies|     Binders|Fellowes PB200 Pl...| 407.976|       3|     0.2|        132.5922|\n",
            "|    15|US-2015-118983|2015-11-22 00:00:00|2015-11-26 00:00:00|Standard Class|   HP-14815|     Harold Pawlan|Home Office|United States|     Fort Worth|         Texas|      76106|Central|OFF-AP-10002311|Office Supplies|  Appliances|Holmes Replacemen...|   68.81|       5|     0.8|        -123.858|\n",
            "|    16|US-2015-118983|2015-11-22 00:00:00|2015-11-26 00:00:00|Standard Class|   HP-14815|     Harold Pawlan|Home Office|United States|     Fort Worth|         Texas|      76106|Central|OFF-BI-10000756|Office Supplies|     Binders|Storex DuraTech R...|   2.544|       3|     0.8|          -3.816|\n",
            "|    17|CA-2014-105893|2014-11-11 00:00:00|2014-11-18 00:00:00|Standard Class|   PK-19075|         Pete Kriz|   Consumer|United States|        Madison|     Wisconsin|      53711|Central|OFF-ST-10004186|Office Supplies|     Storage|\"Stur-D-Stor Shel...|  665.88|       6|       0|         13.3176|\n",
            "|    18|CA-2014-167164|2014-05-13 00:00:00|2014-05-15 00:00:00|  Second Class|   AG-10270|   Alejandro Grove|   Consumer|United States|    West Jordan|          Utah|      84084|   West|OFF-ST-10000107|Office Supplies|     Storage|Fellowes Super St...|    55.5|       2|       0|9.98999999999999|\n",
            "|    19|CA-2014-143336|2014-08-27 00:00:00|2014-09-01 00:00:00|  Second Class|   ZD-21925|Zuschuss Donatelli|   Consumer|United States|  San Francisco|    California|      94109|   West|OFF-AR-10003056|Office Supplies|         Art|          Newell 341|    8.56|       2|       0|          2.4824|\n",
            "|    20|CA-2014-143336|2014-08-27 00:00:00|2014-09-01 00:00:00|  Second Class|   ZD-21925|Zuschuss Donatelli|   Consumer|United States|  San Francisco|    California|      94109|   West|TEC-PH-10001949|     Technology|      Phones|Cisco SPA 501G IP...|  213.48|       3|     0.2|          16.011|\n",
            "+------+--------------+-------------------+-------------------+--------------+-----------+------------------+-----------+-------------+---------------+--------------+-----------+-------+---------------+---------------+------------+--------------------+--------+--------+--------+----------------+\n",
            "only showing top 20 rows\n",
            "\n"
          ]
        }
      ]
    },
    {
      "cell_type": "code",
      "source": [
        "df_pyspark.filter(~(df_pyspark['Profit']<=20)).show"
      ],
      "metadata": {
        "colab": {
          "base_uri": "https://localhost:8080/"
        },
        "id": "_GmCK0K2SMZf",
        "outputId": "f7ec55bc-04a4-4458-e474-701dde8a6daf"
      },
      "execution_count": null,
      "outputs": [
        {
          "output_type": "execute_result",
          "data": {
            "text/plain": [
              "<bound method DataFrame.show of DataFrame[Row ID: int, Order ID: string, Order Date: timestamp, Ship Date: timestamp, Ship Mode: string, Customer ID: string, Customer Name: string, Segment: string, Country: string, City: string, State: string, Postal Code: int, Region: string, Product ID: string, Category: string, Sub-Category: string, Product Name: string, Sales: string, Quantity: string, Discount: string, Profit: double]>"
            ]
          },
          "metadata": {},
          "execution_count": 132
        }
      ]
    },
    {
      "cell_type": "code",
      "source": [
        "##AGGREGATE FUNCTION"
      ],
      "metadata": {
        "id": "iG5HG6D7SdWC"
      },
      "execution_count": null,
      "outputs": []
    },
    {
      "cell_type": "code",
      "source": [
        "df_pyspark.groupBy('Row ID').sum().show()"
      ],
      "metadata": {
        "colab": {
          "base_uri": "https://localhost:8080/"
        },
        "id": "i7UtCVdGS57M",
        "outputId": "237654b4-8e41-450d-e674-383ede37b954"
      },
      "execution_count": null,
      "outputs": [
        {
          "output_type": "stream",
          "name": "stdout",
          "text": [
            "+------+-----------+----------------+-----------------+\n",
            "|Row ID|sum(Row ID)|sum(Postal Code)|      sum(Profit)|\n",
            "+------+-----------+----------------+-----------------+\n",
            "|   148|        148|           53132|         103.8015|\n",
            "|   463|        463|           85023|            7.068|\n",
            "|   471|        471|           11757|          26.6304|\n",
            "|   496|        496|           72701|          51.6558|\n",
            "|   833|        833|           41042|          17.1574|\n",
            "|  1088|       1088|           94601| 7.19760000000001|\n",
            "|  1238|       1238|           33437|           41.262|\n",
            "|  1342|       1342|           28540|              0.7|\n",
            "|  1580|       1580|           10024|          89.3142|\n",
            "|  1591|       1591|           76051|           5.8604|\n",
            "|  1645|       1645|           98115|        1480.4671|\n",
            "|  1829|       1829|           31204|          18.6624|\n",
            "|  1959|       1959|           65807|            7.776|\n",
            "|  2122|       2122|           94086|-2.69970000000004|\n",
            "|  2142|       2142|           11561|        -347.1174|\n",
            "|  2366|       2366|           22980|             20.7|\n",
            "|  2659|       2659|           94110|           5.1042|\n",
            "|  2866|       2866|           94122|          15.4752|\n",
            "|  3175|       3175|           48227|          50.9208|\n",
            "|  3749|       3749|           90301|           96.576|\n",
            "+------+-----------+----------------+-----------------+\n",
            "only showing top 20 rows\n",
            "\n"
          ]
        }
      ]
    },
    {
      "cell_type": "code",
      "source": [
        "df_pyspark.groupBy('Row ID').avg().show()"
      ],
      "metadata": {
        "colab": {
          "base_uri": "https://localhost:8080/"
        },
        "id": "O8wQtxmbTFoo",
        "outputId": "8150ec90-f733-4804-913d-4c79bbd2adb2"
      },
      "execution_count": null,
      "outputs": [
        {
          "output_type": "stream",
          "name": "stdout",
          "text": [
            "+------+-----------+----------------+-----------------+\n",
            "|Row ID|avg(Row ID)|avg(Postal Code)|      avg(Profit)|\n",
            "+------+-----------+----------------+-----------------+\n",
            "|   148|      148.0|         53132.0|         103.8015|\n",
            "|   463|      463.0|         85023.0|            7.068|\n",
            "|   471|      471.0|         11757.0|          26.6304|\n",
            "|   496|      496.0|         72701.0|          51.6558|\n",
            "|   833|      833.0|         41042.0|          17.1574|\n",
            "|  1088|     1088.0|         94601.0| 7.19760000000001|\n",
            "|  1238|     1238.0|         33437.0|           41.262|\n",
            "|  1342|     1342.0|         28540.0|              0.7|\n",
            "|  1580|     1580.0|         10024.0|          89.3142|\n",
            "|  1591|     1591.0|         76051.0|           5.8604|\n",
            "|  1645|     1645.0|         98115.0|        1480.4671|\n",
            "|  1829|     1829.0|         31204.0|          18.6624|\n",
            "|  1959|     1959.0|         65807.0|            7.776|\n",
            "|  2122|     2122.0|         94086.0|-2.69970000000004|\n",
            "|  2142|     2142.0|         11561.0|        -347.1174|\n",
            "|  2366|     2366.0|         22980.0|             20.7|\n",
            "|  2659|     2659.0|         94110.0|           5.1042|\n",
            "|  2866|     2866.0|         94122.0|          15.4752|\n",
            "|  3175|     3175.0|         48227.0|          50.9208|\n",
            "|  3749|     3749.0|         90301.0|           96.576|\n",
            "+------+-----------+----------------+-----------------+\n",
            "only showing top 20 rows\n",
            "\n"
          ]
        }
      ]
    },
    {
      "cell_type": "code",
      "source": [
        "df_pyspark.groupBy('City').mean().show()"
      ],
      "metadata": {
        "colab": {
          "base_uri": "https://localhost:8080/"
        },
        "id": "GBIk4cFmThCC",
        "outputId": "4f572fb4-f3d0-4562-c2c3-f95a38ee53b6"
      },
      "execution_count": null,
      "outputs": [
        {
          "output_type": "stream",
          "name": "stdout",
          "text": [
            "+---------------+------------------+------------------+-------------------+\n",
            "|           City|       avg(Row ID)|  avg(Postal Code)|        avg(Profit)|\n",
            "+---------------+------------------+------------------+-------------------+\n",
            "|          Tyler|             710.2|           75701.0|          -88.74172|\n",
            "|    Springfield| 5026.288343558283|55315.073619631905|  37.28970797546012|\n",
            "|        Edmonds| 5942.428571428572|           98026.0|  45.30341428571428|\n",
            "|          Tempe| 3373.769230769231|           85281.0|  7.095323076923078|\n",
            "|  Bowling Green|            6917.7|           43142.4|  21.70616999999998|\n",
            "|          Pasco|            5676.5|           99301.0|            59.5874|\n",
            "|         Auburn|3017.7916666666665|         22514.125| 30.597245833333332|\n",
            "|North Las Vegas|            5176.0|           89031.0|       140.48061875|\n",
            "|       Thornton|            7536.2|           80229.0|           14.00822|\n",
            "|       Palatine|            6273.0|           60067.0|            23.2624|\n",
            "|        Phoenix| 4906.222222222223|           85023.0|-44.382869841269866|\n",
            "|     Plainfield| 5250.615384615385|            7060.0|   95.0512076923077|\n",
            "|  Lake Elsinore|             800.0|           92530.0|             17.745|\n",
            "|     Georgetown|           6617.75|           40324.0|  50.34499999999999|\n",
            "|      Bethlehem|            7282.0|           18018.0|-200.61916000000002|\n",
            "|         Wilson| 7907.166666666667|           27893.0|-1.2551333333333334|\n",
            "|      Hollywood| 7220.363636363636|           33021.0|  9.836472727272726|\n",
            "|         Monroe| 3491.904761904762| 52734.57142857143| 33.172580952380954|\n",
            "|       Woodland| 5330.666666666667|           95695.0| 11.128266666666667|\n",
            "| Pembroke Pines|            5103.5|           33024.0| -5.174935714285717|\n",
            "+---------------+------------------+------------------+-------------------+\n",
            "only showing top 20 rows\n",
            "\n"
          ]
        }
      ]
    },
    {
      "cell_type": "code",
      "source": [
        "df_pyspark.groupBy('City').count().show()"
      ],
      "metadata": {
        "id": "E6YBUoLnTw2O",
        "colab": {
          "base_uri": "https://localhost:8080/"
        },
        "outputId": "a8ded71b-a4c9-495b-8d97-75012ab0e588"
      },
      "execution_count": null,
      "outputs": [
        {
          "output_type": "stream",
          "name": "stdout",
          "text": [
            "+---------------+-----+\n",
            "|           City|count|\n",
            "+---------------+-----+\n",
            "|          Tyler|    5|\n",
            "|    Springfield|  163|\n",
            "|        Edmonds|   14|\n",
            "|          Tempe|   13|\n",
            "|  Bowling Green|   10|\n",
            "|          Pasco|    6|\n",
            "|         Auburn|   24|\n",
            "|North Las Vegas|   16|\n",
            "|       Thornton|   10|\n",
            "|       Palatine|    1|\n",
            "|        Phoenix|   63|\n",
            "|     Plainfield|   13|\n",
            "|  Lake Elsinore|    1|\n",
            "|     Georgetown|    8|\n",
            "|      Bethlehem|    5|\n",
            "|         Wilson|    6|\n",
            "|      Hollywood|   11|\n",
            "|         Monroe|   21|\n",
            "|       Woodland|    3|\n",
            "| Pembroke Pines|   14|\n",
            "+---------------+-----+\n",
            "only showing top 20 rows\n",
            "\n"
          ]
        }
      ]
    },
    {
      "cell_type": "code",
      "source": [
        "df_pyspark.agg({'Profit':'sum'}).show()"
      ],
      "metadata": {
        "colab": {
          "base_uri": "https://localhost:8080/"
        },
        "id": "lIWdCuZiUQCt",
        "outputId": "dea13c71-2437-43aa-aa5b-05fcc7a0f2a3"
      },
      "execution_count": null,
      "outputs": [
        {
          "output_type": "stream",
          "name": "stdout",
          "text": [
            "+------------------+\n",
            "|       sum(Profit)|\n",
            "+------------------+\n",
            "|285707.60220000165|\n",
            "+------------------+\n",
            "\n"
          ]
        }
      ]
    },
    {
      "cell_type": "code",
      "source": [
        ""
      ],
      "metadata": {
        "id": "pN3fLpOOUmTe"
      },
      "execution_count": null,
      "outputs": []
    }
  ],
  "metadata": {
    "colab": {
      "collapsed_sections": [],
      "name": "PySpark.ipynb",
      "provenance": [],
      "include_colab_link": true
    },
    "kernelspec": {
      "display_name": "Python 3",
      "name": "python3"
    },
    "language_info": {
      "name": "python"
    }
  },
  "nbformat": 4,
  "nbformat_minor": 0
}